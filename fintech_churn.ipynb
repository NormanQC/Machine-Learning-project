{
  "nbformat": 4,
  "nbformat_minor": 0,
  "metadata": {
    "kernelspec": {
      "display_name": "Python 3",
      "language": "python",
      "name": "python3"
    },
    "language_info": {
      "codemirror_mode": {
        "name": "ipython",
        "version": 3
      },
      "file_extension": ".py",
      "mimetype": "text/x-python",
      "name": "python",
      "nbconvert_exporter": "python",
      "pygments_lexer": "ipython3",
      "version": "3.7.1"
    },
    "colab": {
      "name": "fintech churn.ipynb",
      "provenance": [],
      "collapsed_sections": [
        "lPZtwKODRJGU"
      ],
      "toc_visible": true
    }
  },
  "cells": [
    {
      "cell_type": "markdown",
      "metadata": {
        "id": "JxEwg7JoRJFI",
        "colab_type": "text"
      },
      "source": [
        "# Customer Churn Prediction in Fintech Industry"
      ]
    },
    {
      "cell_type": "markdown",
      "metadata": {
        "id": "kQX1DfWQRJFK",
        "colab_type": "text"
      },
      "source": [
        "In this project, we use supervised learning models to identify customers for a Fintech Company who are likely to stop using service in the future. Furthermore, we will analyze top factors that influence user retention."
      ]
    },
    {
      "cell_type": "markdown",
      "metadata": {
        "id": "A5Tec9l7RJFL",
        "colab_type": "text"
      },
      "source": [
        "## Contents"
      ]
    },
    {
      "cell_type": "markdown",
      "metadata": {
        "id": "MMHMxAEoRJFL",
        "colab_type": "text"
      },
      "source": [
        "<ul>\n",
        "<li>[Part 1: Data Exploration]\n",
        "<li>[Part 2: Feature Preprocessing]\n",
        "<li>[Part 3: Model Training and Results Evaluation]\n",
        "<li>[Part 4: Feature Selection]\n",
        "</ul>"
      ]
    },
    {
      "cell_type": "markdown",
      "metadata": {
        "id": "PG3COWxPRJFM",
        "colab_type": "text"
      },
      "source": [
        "# Part 1: Data Exploration"
      ]
    },
    {
      "cell_type": "markdown",
      "metadata": {
        "id": "TTf4XuDlRJFN",
        "colab_type": "text"
      },
      "source": [
        "### Part 1.1: Understand the Raw Dataset"
      ]
    },
    {
      "cell_type": "code",
      "metadata": {
        "id": "RDlYg_rbRJFO",
        "colab_type": "code",
        "colab": {}
      },
      "source": [
        "import warnings\n",
        "warnings.filterwarnings('ignore')\n",
        "\n",
        "import pandas as pd\n",
        "import numpy as np\n",
        "pd.set_option('display.max_columns', None)\n",
        "\n",
        "churn_df = pd.read_csv('churn_data.csv')"
      ],
      "execution_count": 0,
      "outputs": []
    },
    {
      "cell_type": "code",
      "metadata": {
        "scrolled": true,
        "id": "JlPJ47zeRJFR",
        "colab_type": "code",
        "colab": {
          "base_uri": "https://localhost:8080/",
          "height": 215
        },
        "outputId": "36401ab0-a343-4661-f954-917d9f78a952"
      },
      "source": [
        "churn_df.head()"
      ],
      "execution_count": 2,
      "outputs": [
        {
          "output_type": "execute_result",
          "data": {
            "text/html": [
              "<div>\n",
              "<style scoped>\n",
              "    .dataframe tbody tr th:only-of-type {\n",
              "        vertical-align: middle;\n",
              "    }\n",
              "\n",
              "    .dataframe tbody tr th {\n",
              "        vertical-align: top;\n",
              "    }\n",
              "\n",
              "    .dataframe thead th {\n",
              "        text-align: right;\n",
              "    }\n",
              "</style>\n",
              "<table border=\"1\" class=\"dataframe\">\n",
              "  <thead>\n",
              "    <tr style=\"text-align: right;\">\n",
              "      <th></th>\n",
              "      <th>user</th>\n",
              "      <th>churn</th>\n",
              "      <th>age</th>\n",
              "      <th>housing</th>\n",
              "      <th>credit_score</th>\n",
              "      <th>deposits</th>\n",
              "      <th>withdrawal</th>\n",
              "      <th>purchases_partners</th>\n",
              "      <th>purchases</th>\n",
              "      <th>cc_taken</th>\n",
              "      <th>cc_recommended</th>\n",
              "      <th>cc_disliked</th>\n",
              "      <th>cc_liked</th>\n",
              "      <th>cc_application_begin</th>\n",
              "      <th>app_downloaded</th>\n",
              "      <th>web_user</th>\n",
              "      <th>app_web_user</th>\n",
              "      <th>ios_user</th>\n",
              "      <th>android_user</th>\n",
              "      <th>registered_phones</th>\n",
              "      <th>payment_type</th>\n",
              "      <th>waiting_4_loan</th>\n",
              "      <th>cancelled_loan</th>\n",
              "      <th>received_loan</th>\n",
              "      <th>rejected_loan</th>\n",
              "      <th>zodiac_sign</th>\n",
              "      <th>left_for_two_month_plus</th>\n",
              "      <th>left_for_one_month</th>\n",
              "      <th>rewards_earned</th>\n",
              "      <th>reward_rate</th>\n",
              "      <th>is_referred</th>\n",
              "    </tr>\n",
              "  </thead>\n",
              "  <tbody>\n",
              "    <tr>\n",
              "      <th>0</th>\n",
              "      <td>55409</td>\n",
              "      <td>0</td>\n",
              "      <td>37.0</td>\n",
              "      <td>na</td>\n",
              "      <td>NaN</td>\n",
              "      <td>0</td>\n",
              "      <td>0</td>\n",
              "      <td>0</td>\n",
              "      <td>0</td>\n",
              "      <td>0</td>\n",
              "      <td>0</td>\n",
              "      <td>0</td>\n",
              "      <td>0</td>\n",
              "      <td>0</td>\n",
              "      <td>1</td>\n",
              "      <td>1</td>\n",
              "      <td>1</td>\n",
              "      <td>1</td>\n",
              "      <td>0</td>\n",
              "      <td>0</td>\n",
              "      <td>Bi-Weekly</td>\n",
              "      <td>0</td>\n",
              "      <td>0</td>\n",
              "      <td>0</td>\n",
              "      <td>0</td>\n",
              "      <td>Leo</td>\n",
              "      <td>1</td>\n",
              "      <td>0</td>\n",
              "      <td>NaN</td>\n",
              "      <td>0.00</td>\n",
              "      <td>0</td>\n",
              "    </tr>\n",
              "    <tr>\n",
              "      <th>1</th>\n",
              "      <td>23547</td>\n",
              "      <td>0</td>\n",
              "      <td>28.0</td>\n",
              "      <td>R</td>\n",
              "      <td>486.0</td>\n",
              "      <td>0</td>\n",
              "      <td>0</td>\n",
              "      <td>1</td>\n",
              "      <td>0</td>\n",
              "      <td>0</td>\n",
              "      <td>96</td>\n",
              "      <td>0</td>\n",
              "      <td>0</td>\n",
              "      <td>5</td>\n",
              "      <td>1</td>\n",
              "      <td>1</td>\n",
              "      <td>1</td>\n",
              "      <td>1</td>\n",
              "      <td>0</td>\n",
              "      <td>0</td>\n",
              "      <td>Weekly</td>\n",
              "      <td>0</td>\n",
              "      <td>0</td>\n",
              "      <td>0</td>\n",
              "      <td>0</td>\n",
              "      <td>Leo</td>\n",
              "      <td>0</td>\n",
              "      <td>0</td>\n",
              "      <td>44.0</td>\n",
              "      <td>1.47</td>\n",
              "      <td>1</td>\n",
              "    </tr>\n",
              "    <tr>\n",
              "      <th>2</th>\n",
              "      <td>58313</td>\n",
              "      <td>0</td>\n",
              "      <td>35.0</td>\n",
              "      <td>R</td>\n",
              "      <td>561.0</td>\n",
              "      <td>47</td>\n",
              "      <td>2</td>\n",
              "      <td>86</td>\n",
              "      <td>47</td>\n",
              "      <td>0</td>\n",
              "      <td>285</td>\n",
              "      <td>0</td>\n",
              "      <td>0</td>\n",
              "      <td>9</td>\n",
              "      <td>1</td>\n",
              "      <td>0</td>\n",
              "      <td>0</td>\n",
              "      <td>0</td>\n",
              "      <td>1</td>\n",
              "      <td>2</td>\n",
              "      <td>Semi-Monthly</td>\n",
              "      <td>0</td>\n",
              "      <td>0</td>\n",
              "      <td>0</td>\n",
              "      <td>0</td>\n",
              "      <td>Capricorn</td>\n",
              "      <td>1</td>\n",
              "      <td>0</td>\n",
              "      <td>65.0</td>\n",
              "      <td>2.17</td>\n",
              "      <td>0</td>\n",
              "    </tr>\n",
              "    <tr>\n",
              "      <th>3</th>\n",
              "      <td>8095</td>\n",
              "      <td>0</td>\n",
              "      <td>26.0</td>\n",
              "      <td>R</td>\n",
              "      <td>567.0</td>\n",
              "      <td>26</td>\n",
              "      <td>3</td>\n",
              "      <td>38</td>\n",
              "      <td>25</td>\n",
              "      <td>0</td>\n",
              "      <td>74</td>\n",
              "      <td>0</td>\n",
              "      <td>0</td>\n",
              "      <td>26</td>\n",
              "      <td>1</td>\n",
              "      <td>0</td>\n",
              "      <td>0</td>\n",
              "      <td>0</td>\n",
              "      <td>1</td>\n",
              "      <td>0</td>\n",
              "      <td>Bi-Weekly</td>\n",
              "      <td>0</td>\n",
              "      <td>0</td>\n",
              "      <td>0</td>\n",
              "      <td>0</td>\n",
              "      <td>Capricorn</td>\n",
              "      <td>0</td>\n",
              "      <td>0</td>\n",
              "      <td>33.0</td>\n",
              "      <td>1.10</td>\n",
              "      <td>1</td>\n",
              "    </tr>\n",
              "    <tr>\n",
              "      <th>4</th>\n",
              "      <td>61353</td>\n",
              "      <td>1</td>\n",
              "      <td>27.0</td>\n",
              "      <td>na</td>\n",
              "      <td>NaN</td>\n",
              "      <td>0</td>\n",
              "      <td>0</td>\n",
              "      <td>2</td>\n",
              "      <td>0</td>\n",
              "      <td>0</td>\n",
              "      <td>0</td>\n",
              "      <td>0</td>\n",
              "      <td>0</td>\n",
              "      <td>0</td>\n",
              "      <td>1</td>\n",
              "      <td>1</td>\n",
              "      <td>1</td>\n",
              "      <td>0</td>\n",
              "      <td>1</td>\n",
              "      <td>0</td>\n",
              "      <td>Bi-Weekly</td>\n",
              "      <td>0</td>\n",
              "      <td>0</td>\n",
              "      <td>0</td>\n",
              "      <td>0</td>\n",
              "      <td>Aries</td>\n",
              "      <td>1</td>\n",
              "      <td>0</td>\n",
              "      <td>1.0</td>\n",
              "      <td>0.03</td>\n",
              "      <td>0</td>\n",
              "    </tr>\n",
              "  </tbody>\n",
              "</table>\n",
              "</div>"
            ],
            "text/plain": [
              "    user  churn   age housing  credit_score  deposits  withdrawal  \\\n",
              "0  55409      0  37.0      na           NaN         0           0   \n",
              "1  23547      0  28.0       R         486.0         0           0   \n",
              "2  58313      0  35.0       R         561.0        47           2   \n",
              "3   8095      0  26.0       R         567.0        26           3   \n",
              "4  61353      1  27.0      na           NaN         0           0   \n",
              "\n",
              "   purchases_partners  purchases  cc_taken  cc_recommended  cc_disliked  \\\n",
              "0                   0          0         0               0            0   \n",
              "1                   1          0         0              96            0   \n",
              "2                  86         47         0             285            0   \n",
              "3                  38         25         0              74            0   \n",
              "4                   2          0         0               0            0   \n",
              "\n",
              "   cc_liked  cc_application_begin  app_downloaded  web_user  app_web_user  \\\n",
              "0         0                     0               1         1             1   \n",
              "1         0                     5               1         1             1   \n",
              "2         0                     9               1         0             0   \n",
              "3         0                    26               1         0             0   \n",
              "4         0                     0               1         1             1   \n",
              "\n",
              "   ios_user  android_user  registered_phones  payment_type  waiting_4_loan  \\\n",
              "0         1             0                  0     Bi-Weekly               0   \n",
              "1         1             0                  0        Weekly               0   \n",
              "2         0             1                  2  Semi-Monthly               0   \n",
              "3         0             1                  0     Bi-Weekly               0   \n",
              "4         0             1                  0     Bi-Weekly               0   \n",
              "\n",
              "   cancelled_loan  received_loan  rejected_loan zodiac_sign  \\\n",
              "0               0              0              0         Leo   \n",
              "1               0              0              0         Leo   \n",
              "2               0              0              0   Capricorn   \n",
              "3               0              0              0   Capricorn   \n",
              "4               0              0              0       Aries   \n",
              "\n",
              "   left_for_two_month_plus  left_for_one_month  rewards_earned  reward_rate  \\\n",
              "0                        1                   0             NaN         0.00   \n",
              "1                        0                   0            44.0         1.47   \n",
              "2                        1                   0            65.0         2.17   \n",
              "3                        0                   0            33.0         1.10   \n",
              "4                        1                   0             1.0         0.03   \n",
              "\n",
              "   is_referred  \n",
              "0            0  \n",
              "1            1  \n",
              "2            0  \n",
              "3            1  \n",
              "4            0  "
            ]
          },
          "metadata": {
            "tags": []
          },
          "execution_count": 2
        }
      ]
    },
    {
      "cell_type": "code",
      "metadata": {
        "id": "Qb9pl8jiRJFW",
        "colab_type": "code",
        "colab": {
          "base_uri": "https://localhost:8080/",
          "height": 50
        },
        "outputId": "b9a8cfc6-a3a5-4ae4-b084-8a9aaec9f1f3"
      },
      "source": [
        "print (\"Num of rows: \" + str(churn_df.shape[0])) # row count\n",
        "print (\"Num of columns: \" + str(churn_df.shape[1])) # col count"
      ],
      "execution_count": 3,
      "outputs": [
        {
          "output_type": "stream",
          "text": [
            "Num of rows: 27000\n",
            "Num of columns: 31\n"
          ],
          "name": "stdout"
        }
      ]
    },
    {
      "cell_type": "code",
      "metadata": {
        "id": "inpboMswRJFX",
        "colab_type": "code",
        "colab": {
          "base_uri": "https://localhost:8080/",
          "height": 304
        },
        "outputId": "fde9fcfe-0336-4099-d572-b8218586e1d1"
      },
      "source": [
        "churn_df.describe()"
      ],
      "execution_count": 4,
      "outputs": [
        {
          "output_type": "execute_result",
          "data": {
            "text/html": [
              "<div>\n",
              "<style scoped>\n",
              "    .dataframe tbody tr th:only-of-type {\n",
              "        vertical-align: middle;\n",
              "    }\n",
              "\n",
              "    .dataframe tbody tr th {\n",
              "        vertical-align: top;\n",
              "    }\n",
              "\n",
              "    .dataframe thead th {\n",
              "        text-align: right;\n",
              "    }\n",
              "</style>\n",
              "<table border=\"1\" class=\"dataframe\">\n",
              "  <thead>\n",
              "    <tr style=\"text-align: right;\">\n",
              "      <th></th>\n",
              "      <th>user</th>\n",
              "      <th>churn</th>\n",
              "      <th>age</th>\n",
              "      <th>credit_score</th>\n",
              "      <th>deposits</th>\n",
              "      <th>withdrawal</th>\n",
              "      <th>purchases_partners</th>\n",
              "      <th>purchases</th>\n",
              "      <th>cc_taken</th>\n",
              "      <th>cc_recommended</th>\n",
              "      <th>cc_disliked</th>\n",
              "      <th>cc_liked</th>\n",
              "      <th>cc_application_begin</th>\n",
              "      <th>app_downloaded</th>\n",
              "      <th>web_user</th>\n",
              "      <th>app_web_user</th>\n",
              "      <th>ios_user</th>\n",
              "      <th>android_user</th>\n",
              "      <th>registered_phones</th>\n",
              "      <th>waiting_4_loan</th>\n",
              "      <th>cancelled_loan</th>\n",
              "      <th>received_loan</th>\n",
              "      <th>rejected_loan</th>\n",
              "      <th>left_for_two_month_plus</th>\n",
              "      <th>left_for_one_month</th>\n",
              "      <th>rewards_earned</th>\n",
              "      <th>reward_rate</th>\n",
              "      <th>is_referred</th>\n",
              "    </tr>\n",
              "  </thead>\n",
              "  <tbody>\n",
              "    <tr>\n",
              "      <th>count</th>\n",
              "      <td>27000.000000</td>\n",
              "      <td>27000.000000</td>\n",
              "      <td>26996.000000</td>\n",
              "      <td>18969.000000</td>\n",
              "      <td>27000.000000</td>\n",
              "      <td>27000.000000</td>\n",
              "      <td>27000.000000</td>\n",
              "      <td>27000.000000</td>\n",
              "      <td>27000.000000</td>\n",
              "      <td>27000.000000</td>\n",
              "      <td>27000.000000</td>\n",
              "      <td>27000.000000</td>\n",
              "      <td>27000.000000</td>\n",
              "      <td>27000.000000</td>\n",
              "      <td>27000.000000</td>\n",
              "      <td>27000.000000</td>\n",
              "      <td>27000.000000</td>\n",
              "      <td>27000.000000</td>\n",
              "      <td>27000.000000</td>\n",
              "      <td>27000.000000</td>\n",
              "      <td>27000.000000</td>\n",
              "      <td>27000.000000</td>\n",
              "      <td>27000.000000</td>\n",
              "      <td>27000.000000</td>\n",
              "      <td>27000.000000</td>\n",
              "      <td>23773.000000</td>\n",
              "      <td>27000.000000</td>\n",
              "      <td>27000.000000</td>\n",
              "    </tr>\n",
              "    <tr>\n",
              "      <th>mean</th>\n",
              "      <td>35422.702519</td>\n",
              "      <td>0.413852</td>\n",
              "      <td>32.219921</td>\n",
              "      <td>542.944225</td>\n",
              "      <td>3.341556</td>\n",
              "      <td>0.307000</td>\n",
              "      <td>28.062519</td>\n",
              "      <td>3.273481</td>\n",
              "      <td>0.073778</td>\n",
              "      <td>92.625778</td>\n",
              "      <td>0.050630</td>\n",
              "      <td>0.013111</td>\n",
              "      <td>8.197852</td>\n",
              "      <td>0.952481</td>\n",
              "      <td>0.606074</td>\n",
              "      <td>0.561741</td>\n",
              "      <td>0.393926</td>\n",
              "      <td>0.587259</td>\n",
              "      <td>0.420926</td>\n",
              "      <td>0.001296</td>\n",
              "      <td>0.018815</td>\n",
              "      <td>0.018185</td>\n",
              "      <td>0.004889</td>\n",
              "      <td>0.173444</td>\n",
              "      <td>0.018074</td>\n",
              "      <td>29.110125</td>\n",
              "      <td>0.907684</td>\n",
              "      <td>0.318037</td>\n",
              "    </tr>\n",
              "    <tr>\n",
              "      <th>std</th>\n",
              "      <td>20321.006678</td>\n",
              "      <td>0.492532</td>\n",
              "      <td>9.964838</td>\n",
              "      <td>61.059315</td>\n",
              "      <td>9.131406</td>\n",
              "      <td>1.055416</td>\n",
              "      <td>42.219686</td>\n",
              "      <td>8.953077</td>\n",
              "      <td>0.437299</td>\n",
              "      <td>88.869343</td>\n",
              "      <td>0.871366</td>\n",
              "      <td>0.238158</td>\n",
              "      <td>12.497243</td>\n",
              "      <td>0.212749</td>\n",
              "      <td>0.488628</td>\n",
              "      <td>0.496183</td>\n",
              "      <td>0.488628</td>\n",
              "      <td>0.492336</td>\n",
              "      <td>0.912831</td>\n",
              "      <td>0.035981</td>\n",
              "      <td>0.135873</td>\n",
              "      <td>0.133623</td>\n",
              "      <td>0.069751</td>\n",
              "      <td>0.378638</td>\n",
              "      <td>0.133222</td>\n",
              "      <td>21.973478</td>\n",
              "      <td>0.752016</td>\n",
              "      <td>0.465723</td>\n",
              "    </tr>\n",
              "    <tr>\n",
              "      <th>min</th>\n",
              "      <td>1.000000</td>\n",
              "      <td>0.000000</td>\n",
              "      <td>17.000000</td>\n",
              "      <td>2.000000</td>\n",
              "      <td>0.000000</td>\n",
              "      <td>0.000000</td>\n",
              "      <td>0.000000</td>\n",
              "      <td>0.000000</td>\n",
              "      <td>0.000000</td>\n",
              "      <td>0.000000</td>\n",
              "      <td>0.000000</td>\n",
              "      <td>0.000000</td>\n",
              "      <td>0.000000</td>\n",
              "      <td>0.000000</td>\n",
              "      <td>0.000000</td>\n",
              "      <td>0.000000</td>\n",
              "      <td>0.000000</td>\n",
              "      <td>0.000000</td>\n",
              "      <td>0.000000</td>\n",
              "      <td>0.000000</td>\n",
              "      <td>0.000000</td>\n",
              "      <td>0.000000</td>\n",
              "      <td>0.000000</td>\n",
              "      <td>0.000000</td>\n",
              "      <td>0.000000</td>\n",
              "      <td>1.000000</td>\n",
              "      <td>0.000000</td>\n",
              "      <td>0.000000</td>\n",
              "    </tr>\n",
              "    <tr>\n",
              "      <th>25%</th>\n",
              "      <td>17810.500000</td>\n",
              "      <td>0.000000</td>\n",
              "      <td>25.000000</td>\n",
              "      <td>507.000000</td>\n",
              "      <td>0.000000</td>\n",
              "      <td>0.000000</td>\n",
              "      <td>0.000000</td>\n",
              "      <td>0.000000</td>\n",
              "      <td>0.000000</td>\n",
              "      <td>10.000000</td>\n",
              "      <td>0.000000</td>\n",
              "      <td>0.000000</td>\n",
              "      <td>0.000000</td>\n",
              "      <td>1.000000</td>\n",
              "      <td>0.000000</td>\n",
              "      <td>0.000000</td>\n",
              "      <td>0.000000</td>\n",
              "      <td>0.000000</td>\n",
              "      <td>0.000000</td>\n",
              "      <td>0.000000</td>\n",
              "      <td>0.000000</td>\n",
              "      <td>0.000000</td>\n",
              "      <td>0.000000</td>\n",
              "      <td>0.000000</td>\n",
              "      <td>0.000000</td>\n",
              "      <td>9.000000</td>\n",
              "      <td>0.200000</td>\n",
              "      <td>0.000000</td>\n",
              "    </tr>\n",
              "    <tr>\n",
              "      <th>50%</th>\n",
              "      <td>35749.000000</td>\n",
              "      <td>0.000000</td>\n",
              "      <td>30.000000</td>\n",
              "      <td>542.000000</td>\n",
              "      <td>0.000000</td>\n",
              "      <td>0.000000</td>\n",
              "      <td>9.000000</td>\n",
              "      <td>0.000000</td>\n",
              "      <td>0.000000</td>\n",
              "      <td>65.000000</td>\n",
              "      <td>0.000000</td>\n",
              "      <td>0.000000</td>\n",
              "      <td>4.000000</td>\n",
              "      <td>1.000000</td>\n",
              "      <td>1.000000</td>\n",
              "      <td>1.000000</td>\n",
              "      <td>0.000000</td>\n",
              "      <td>1.000000</td>\n",
              "      <td>0.000000</td>\n",
              "      <td>0.000000</td>\n",
              "      <td>0.000000</td>\n",
              "      <td>0.000000</td>\n",
              "      <td>0.000000</td>\n",
              "      <td>0.000000</td>\n",
              "      <td>0.000000</td>\n",
              "      <td>25.000000</td>\n",
              "      <td>0.780000</td>\n",
              "      <td>0.000000</td>\n",
              "    </tr>\n",
              "    <tr>\n",
              "      <th>75%</th>\n",
              "      <td>53244.250000</td>\n",
              "      <td>1.000000</td>\n",
              "      <td>37.000000</td>\n",
              "      <td>578.000000</td>\n",
              "      <td>1.000000</td>\n",
              "      <td>0.000000</td>\n",
              "      <td>43.000000</td>\n",
              "      <td>1.000000</td>\n",
              "      <td>0.000000</td>\n",
              "      <td>164.000000</td>\n",
              "      <td>0.000000</td>\n",
              "      <td>0.000000</td>\n",
              "      <td>11.000000</td>\n",
              "      <td>1.000000</td>\n",
              "      <td>1.000000</td>\n",
              "      <td>1.000000</td>\n",
              "      <td>1.000000</td>\n",
              "      <td>1.000000</td>\n",
              "      <td>0.000000</td>\n",
              "      <td>0.000000</td>\n",
              "      <td>0.000000</td>\n",
              "      <td>0.000000</td>\n",
              "      <td>0.000000</td>\n",
              "      <td>0.000000</td>\n",
              "      <td>0.000000</td>\n",
              "      <td>48.000000</td>\n",
              "      <td>1.530000</td>\n",
              "      <td>1.000000</td>\n",
              "    </tr>\n",
              "    <tr>\n",
              "      <th>max</th>\n",
              "      <td>69658.000000</td>\n",
              "      <td>1.000000</td>\n",
              "      <td>91.000000</td>\n",
              "      <td>838.000000</td>\n",
              "      <td>65.000000</td>\n",
              "      <td>29.000000</td>\n",
              "      <td>1067.000000</td>\n",
              "      <td>63.000000</td>\n",
              "      <td>29.000000</td>\n",
              "      <td>522.000000</td>\n",
              "      <td>65.000000</td>\n",
              "      <td>27.000000</td>\n",
              "      <td>263.000000</td>\n",
              "      <td>1.000000</td>\n",
              "      <td>1.000000</td>\n",
              "      <td>1.000000</td>\n",
              "      <td>1.000000</td>\n",
              "      <td>1.000000</td>\n",
              "      <td>5.000000</td>\n",
              "      <td>1.000000</td>\n",
              "      <td>1.000000</td>\n",
              "      <td>1.000000</td>\n",
              "      <td>1.000000</td>\n",
              "      <td>1.000000</td>\n",
              "      <td>1.000000</td>\n",
              "      <td>114.000000</td>\n",
              "      <td>4.000000</td>\n",
              "      <td>1.000000</td>\n",
              "    </tr>\n",
              "  </tbody>\n",
              "</table>\n",
              "</div>"
            ],
            "text/plain": [
              "               user         churn           age  credit_score      deposits  \\\n",
              "count  27000.000000  27000.000000  26996.000000  18969.000000  27000.000000   \n",
              "mean   35422.702519      0.413852     32.219921    542.944225      3.341556   \n",
              "std    20321.006678      0.492532      9.964838     61.059315      9.131406   \n",
              "min        1.000000      0.000000     17.000000      2.000000      0.000000   \n",
              "25%    17810.500000      0.000000     25.000000    507.000000      0.000000   \n",
              "50%    35749.000000      0.000000     30.000000    542.000000      0.000000   \n",
              "75%    53244.250000      1.000000     37.000000    578.000000      1.000000   \n",
              "max    69658.000000      1.000000     91.000000    838.000000     65.000000   \n",
              "\n",
              "         withdrawal  purchases_partners     purchases      cc_taken  \\\n",
              "count  27000.000000        27000.000000  27000.000000  27000.000000   \n",
              "mean       0.307000           28.062519      3.273481      0.073778   \n",
              "std        1.055416           42.219686      8.953077      0.437299   \n",
              "min        0.000000            0.000000      0.000000      0.000000   \n",
              "25%        0.000000            0.000000      0.000000      0.000000   \n",
              "50%        0.000000            9.000000      0.000000      0.000000   \n",
              "75%        0.000000           43.000000      1.000000      0.000000   \n",
              "max       29.000000         1067.000000     63.000000     29.000000   \n",
              "\n",
              "       cc_recommended   cc_disliked      cc_liked  cc_application_begin  \\\n",
              "count    27000.000000  27000.000000  27000.000000          27000.000000   \n",
              "mean        92.625778      0.050630      0.013111              8.197852   \n",
              "std         88.869343      0.871366      0.238158             12.497243   \n",
              "min          0.000000      0.000000      0.000000              0.000000   \n",
              "25%         10.000000      0.000000      0.000000              0.000000   \n",
              "50%         65.000000      0.000000      0.000000              4.000000   \n",
              "75%        164.000000      0.000000      0.000000             11.000000   \n",
              "max        522.000000     65.000000     27.000000            263.000000   \n",
              "\n",
              "       app_downloaded      web_user  app_web_user      ios_user  android_user  \\\n",
              "count    27000.000000  27000.000000  27000.000000  27000.000000  27000.000000   \n",
              "mean         0.952481      0.606074      0.561741      0.393926      0.587259   \n",
              "std          0.212749      0.488628      0.496183      0.488628      0.492336   \n",
              "min          0.000000      0.000000      0.000000      0.000000      0.000000   \n",
              "25%          1.000000      0.000000      0.000000      0.000000      0.000000   \n",
              "50%          1.000000      1.000000      1.000000      0.000000      1.000000   \n",
              "75%          1.000000      1.000000      1.000000      1.000000      1.000000   \n",
              "max          1.000000      1.000000      1.000000      1.000000      1.000000   \n",
              "\n",
              "       registered_phones  waiting_4_loan  cancelled_loan  received_loan  \\\n",
              "count       27000.000000    27000.000000    27000.000000   27000.000000   \n",
              "mean            0.420926        0.001296        0.018815       0.018185   \n",
              "std             0.912831        0.035981        0.135873       0.133623   \n",
              "min             0.000000        0.000000        0.000000       0.000000   \n",
              "25%             0.000000        0.000000        0.000000       0.000000   \n",
              "50%             0.000000        0.000000        0.000000       0.000000   \n",
              "75%             0.000000        0.000000        0.000000       0.000000   \n",
              "max             5.000000        1.000000        1.000000       1.000000   \n",
              "\n",
              "       rejected_loan  left_for_two_month_plus  left_for_one_month  \\\n",
              "count   27000.000000             27000.000000        27000.000000   \n",
              "mean        0.004889                 0.173444            0.018074   \n",
              "std         0.069751                 0.378638            0.133222   \n",
              "min         0.000000                 0.000000            0.000000   \n",
              "25%         0.000000                 0.000000            0.000000   \n",
              "50%         0.000000                 0.000000            0.000000   \n",
              "75%         0.000000                 0.000000            0.000000   \n",
              "max         1.000000                 1.000000            1.000000   \n",
              "\n",
              "       rewards_earned   reward_rate   is_referred  \n",
              "count    23773.000000  27000.000000  27000.000000  \n",
              "mean        29.110125      0.907684      0.318037  \n",
              "std         21.973478      0.752016      0.465723  \n",
              "min          1.000000      0.000000      0.000000  \n",
              "25%          9.000000      0.200000      0.000000  \n",
              "50%         25.000000      0.780000      0.000000  \n",
              "75%         48.000000      1.530000      1.000000  \n",
              "max        114.000000      4.000000      1.000000  "
            ]
          },
          "metadata": {
            "tags": []
          },
          "execution_count": 4
        }
      ]
    },
    {
      "cell_type": "markdown",
      "metadata": {
        "id": "8GgpJo_wRJFZ",
        "colab_type": "text"
      },
      "source": [
        "### Part 1.2: Data cleaning"
      ]
    },
    {
      "cell_type": "markdown",
      "metadata": {
        "id": "A99--xF1RJFa",
        "colab_type": "text"
      },
      "source": [
        "#### 1.2.1 Remove Missing value"
      ]
    },
    {
      "cell_type": "code",
      "metadata": {
        "id": "JmE7LH6uRJFb",
        "colab_type": "code",
        "colab": {
          "base_uri": "https://localhost:8080/",
          "height": 554
        },
        "outputId": "743ce577-aeb5-4e85-cb47-da131f6220e6"
      },
      "source": [
        "# check the number of missing value\n",
        "churn_df.isna().sum()"
      ],
      "execution_count": 5,
      "outputs": [
        {
          "output_type": "execute_result",
          "data": {
            "text/plain": [
              "user                          0\n",
              "churn                         0\n",
              "age                           4\n",
              "housing                       0\n",
              "credit_score               8031\n",
              "deposits                      0\n",
              "withdrawal                    0\n",
              "purchases_partners            0\n",
              "purchases                     0\n",
              "cc_taken                      0\n",
              "cc_recommended                0\n",
              "cc_disliked                   0\n",
              "cc_liked                      0\n",
              "cc_application_begin          0\n",
              "app_downloaded                0\n",
              "web_user                      0\n",
              "app_web_user                  0\n",
              "ios_user                      0\n",
              "android_user                  0\n",
              "registered_phones             0\n",
              "payment_type                  0\n",
              "waiting_4_loan                0\n",
              "cancelled_loan                0\n",
              "received_loan                 0\n",
              "rejected_loan                 0\n",
              "zodiac_sign                   0\n",
              "left_for_two_month_plus       0\n",
              "left_for_one_month            0\n",
              "rewards_earned             3227\n",
              "reward_rate                   0\n",
              "is_referred                   0\n",
              "dtype: int64"
            ]
          },
          "metadata": {
            "tags": []
          },
          "execution_count": 5
        }
      ]
    },
    {
      "cell_type": "markdown",
      "metadata": {
        "id": "OcVCiZ_oRJFd",
        "colab_type": "text"
      },
      "source": [
        "- Drop 4 rows for the column of age, and drop entire columns of credit_score and rewards_earned because these columns has too many NA"
      ]
    },
    {
      "cell_type": "code",
      "metadata": {
        "scrolled": true,
        "id": "H-MRV7QXRJFe",
        "colab_type": "code",
        "colab": {}
      },
      "source": [
        "churn_df = churn_df[pd.notnull(churn_df['age'])]\n",
        "churn_df = churn_df.drop(columns = ['credit_score','rewards_earned'])"
      ],
      "execution_count": 0,
      "outputs": []
    },
    {
      "cell_type": "markdown",
      "metadata": {
        "id": "2NNPLDIaRJFi",
        "colab_type": "text"
      },
      "source": [
        "### Part 1.3:  Understand the features"
      ]
    },
    {
      "cell_type": "code",
      "metadata": {
        "scrolled": false,
        "id": "i8Y04ODORJFj",
        "colab_type": "code",
        "colab": {}
      },
      "source": [
        "%matplotlib inline\n",
        "import matplotlib.pyplot as plt\n",
        "import seaborn as sb"
      ],
      "execution_count": 0,
      "outputs": []
    },
    {
      "cell_type": "markdown",
      "metadata": {
        "id": "GOppXVXMRJFp",
        "colab_type": "text"
      },
      "source": [
        "#### Part 1.3.1 Correlation with response variable"
      ]
    },
    {
      "cell_type": "code",
      "metadata": {
        "id": "Z92RX3gBRJFq",
        "colab_type": "code",
        "colab": {
          "base_uri": "https://localhost:8080/",
          "height": 776
        },
        "outputId": "e082f8e7-2f77-4454-fc84-1d7c83bf9971"
      },
      "source": [
        "# Use numerical value to find the correlation between independent variable and dependent variable\n",
        "churn_df.drop(columns = ['churn','user','housing', 'payment_type',\n",
        "                       'zodiac_sign']\n",
        "    ).corrwith(churn_df.churn).plot.bar(figsize=(20,10),\n",
        "              title = 'Correlation with Response variable',\n",
        "              fontsize = 15, rot = 45,\n",
        "              grid = True)"
      ],
      "execution_count": 8,
      "outputs": [
        {
          "output_type": "execute_result",
          "data": {
            "text/plain": [
              "<matplotlib.axes._subplots.AxesSubplot at 0x7f27dc537198>"
            ]
          },
          "metadata": {
            "tags": []
          },
          "execution_count": 8
        },
        {
          "output_type": "display_data",
          "data": {
            "image/png": "[encoded data removed]",
            "text/plain": [
              "<Figure size 1440x720 with 1 Axes>"
            ]
          },
          "metadata": {
            "tags": []
          }
        }
      ]
    },
    {
      "cell_type": "code",
      "metadata": {
        "id": "ocSclKPoRJFs",
        "colab_type": "code",
        "colab": {}
      },
      "source": [
        "corr = churn_df[[\"age\", \"deposits\", \"withdrawal\",\n",
        "                    \"purchases_partners\", \"purchases\", \"cc_taken\",\n",
        "                    \"cc_recommended\", \"cc_disliked\", \"cc_liked\",\n",
        "                    \"cc_application_begin\", \"app_downloaded\", \"web_user\",\n",
        "                    \"app_web_user\",\"ios_user\",\"android_user\",\"registered_phones\",\n",
        "                \"waiting_4_loan\",\"cancelled_loan\",\"received_loan\",\"rejected_loan\",\n",
        "                \"left_for_two_month_plus\",\"left_for_one_month\",\"reward_rate\",\"is_referred\"]].corr()"
      ],
      "execution_count": 0,
      "outputs": []
    },
    {
      "cell_type": "code",
      "metadata": {
        "id": "v4ej4RilRJFu",
        "colab_type": "code",
        "colab": {
          "base_uri": "https://localhost:8080/",
          "height": 709
        },
        "outputId": "374e155e-c2ef-45b4-c398-198b64623272"
      },
      "source": [
        "## Correlation Matrix\n",
        "sb.set(style=\"white\")\n",
        "# Generate a mask for the upper triangle\n",
        "mask = np.zeros_like(corr, dtype=np.bool)\n",
        "mask[np.triu_indices_from(mask)] = True\n",
        "# Set up the matplotlib figure\n",
        "f, ax = plt.subplots(figsize=(12, 12))\n",
        "# Generate a custom diverging colormap\n",
        "cmap = sb.diverging_palette(220, 10, as_cmap=True)\n",
        "# Draw the heatmap with the mask and correct aspect ratio\n",
        "sb.heatmap(corr, mask=mask, cmap=cmap, vmax=.3, center=0,\n",
        "            square=True, linewidths=.5, cbar_kws={\"shrink\": .5})"
      ],
      "execution_count": 10,
      "outputs": [
        {
          "output_type": "execute_result",
          "data": {
            "text/plain": [
              "<matplotlib.axes._subplots.AxesSubplot at 0x7f27dbfa4828>"
            ]
          },
          "metadata": {
            "tags": []
          },
          "execution_count": 10
        },
        {
          "output_type": "display_data",
          "data": {
            "image/png": "[encoded data removed]",
            "text/plain": [
              "<Figure size 864x864 with 2 Axes>"
            ]
          },
          "metadata": {
            "tags": []
          }
        }
      ]
    },
    {
      "cell_type": "code",
      "metadata": {
        "id": "HUAARcoARJFx",
        "colab_type": "code",
        "colab": {
          "base_uri": "https://localhost:8080/",
          "height": 34
        },
        "outputId": "d5ff3e57-738a-47ae-e99f-5fdcfee1580b"
      },
      "source": [
        "from scipy.stats import pearsonr\n",
        "print (pearsonr(churn_df['ios_user'], churn_df['android_user'])[0])"
      ],
      "execution_count": 11,
      "outputs": [
        {
          "output_type": "stream",
          "text": [
            "-0.8400843218424062\n"
          ],
          "name": "stdout"
        }
      ]
    },
    {
      "cell_type": "markdown",
      "metadata": {
        "id": "cIoHnkY0RJFz",
        "colab_type": "text"
      },
      "source": [
        "- We find that 'ios_user' and 'android_user' have a strong negative correlation\n",
        "- It is understandable that most people only have one cell phone either ios system or android system \n",
        "- **we can drop either iso_user or android user** because these two features have a high similarity"
      ]
    },
    {
      "cell_type": "code",
      "metadata": {
        "id": "eeBiqTd9RJF0",
        "colab_type": "code",
        "colab": {}
      },
      "source": [
        "# Removing Correlated Fields which is ios_user\n",
        "churn_df = churn_df.drop(columns = ['ios_user'])"
      ],
      "execution_count": 0,
      "outputs": []
    },
    {
      "cell_type": "code",
      "metadata": {
        "id": "C0C4Md3ORJF2",
        "colab_type": "code",
        "colab": {
          "base_uri": "https://localhost:8080/",
          "height": 215
        },
        "outputId": "82196299-3ef2-433f-d9ad-c35da26771b2"
      },
      "source": [
        "churn_df.head()"
      ],
      "execution_count": 13,
      "outputs": [
        {
          "output_type": "execute_result",
          "data": {
            "text/html": [
              "<div>\n",
              "<style scoped>\n",
              "    .dataframe tbody tr th:only-of-type {\n",
              "        vertical-align: middle;\n",
              "    }\n",
              "\n",
              "    .dataframe tbody tr th {\n",
              "        vertical-align: top;\n",
              "    }\n",
              "\n",
              "    .dataframe thead th {\n",
              "        text-align: right;\n",
              "    }\n",
              "</style>\n",
              "<table border=\"1\" class=\"dataframe\">\n",
              "  <thead>\n",
              "    <tr style=\"text-align: right;\">\n",
              "      <th></th>\n",
              "      <th>user</th>\n",
              "      <th>churn</th>\n",
              "      <th>age</th>\n",
              "      <th>housing</th>\n",
              "      <th>deposits</th>\n",
              "      <th>withdrawal</th>\n",
              "      <th>purchases_partners</th>\n",
              "      <th>purchases</th>\n",
              "      <th>cc_taken</th>\n",
              "      <th>cc_recommended</th>\n",
              "      <th>cc_disliked</th>\n",
              "      <th>cc_liked</th>\n",
              "      <th>cc_application_begin</th>\n",
              "      <th>app_downloaded</th>\n",
              "      <th>web_user</th>\n",
              "      <th>app_web_user</th>\n",
              "      <th>android_user</th>\n",
              "      <th>registered_phones</th>\n",
              "      <th>payment_type</th>\n",
              "      <th>waiting_4_loan</th>\n",
              "      <th>cancelled_loan</th>\n",
              "      <th>received_loan</th>\n",
              "      <th>rejected_loan</th>\n",
              "      <th>zodiac_sign</th>\n",
              "      <th>left_for_two_month_plus</th>\n",
              "      <th>left_for_one_month</th>\n",
              "      <th>reward_rate</th>\n",
              "      <th>is_referred</th>\n",
              "    </tr>\n",
              "  </thead>\n",
              "  <tbody>\n",
              "    <tr>\n",
              "      <th>0</th>\n",
              "      <td>55409</td>\n",
              "      <td>0</td>\n",
              "      <td>37.0</td>\n",
              "      <td>na</td>\n",
              "      <td>0</td>\n",
              "      <td>0</td>\n",
              "      <td>0</td>\n",
              "      <td>0</td>\n",
              "      <td>0</td>\n",
              "      <td>0</td>\n",
              "      <td>0</td>\n",
              "      <td>0</td>\n",
              "      <td>0</td>\n",
              "      <td>1</td>\n",
              "      <td>1</td>\n",
              "      <td>1</td>\n",
              "      <td>0</td>\n",
              "      <td>0</td>\n",
              "      <td>Bi-Weekly</td>\n",
              "      <td>0</td>\n",
              "      <td>0</td>\n",
              "      <td>0</td>\n",
              "      <td>0</td>\n",
              "      <td>Leo</td>\n",
              "      <td>1</td>\n",
              "      <td>0</td>\n",
              "      <td>0.00</td>\n",
              "      <td>0</td>\n",
              "    </tr>\n",
              "    <tr>\n",
              "      <th>1</th>\n",
              "      <td>23547</td>\n",
              "      <td>0</td>\n",
              "      <td>28.0</td>\n",
              "      <td>R</td>\n",
              "      <td>0</td>\n",
              "      <td>0</td>\n",
              "      <td>1</td>\n",
              "      <td>0</td>\n",
              "      <td>0</td>\n",
              "      <td>96</td>\n",
              "      <td>0</td>\n",
              "      <td>0</td>\n",
              "      <td>5</td>\n",
              "      <td>1</td>\n",
              "      <td>1</td>\n",
              "      <td>1</td>\n",
              "      <td>0</td>\n",
              "      <td>0</td>\n",
              "      <td>Weekly</td>\n",
              "      <td>0</td>\n",
              "      <td>0</td>\n",
              "      <td>0</td>\n",
              "      <td>0</td>\n",
              "      <td>Leo</td>\n",
              "      <td>0</td>\n",
              "      <td>0</td>\n",
              "      <td>1.47</td>\n",
              "      <td>1</td>\n",
              "    </tr>\n",
              "    <tr>\n",
              "      <th>2</th>\n",
              "      <td>58313</td>\n",
              "      <td>0</td>\n",
              "      <td>35.0</td>\n",
              "      <td>R</td>\n",
              "      <td>47</td>\n",
              "      <td>2</td>\n",
              "      <td>86</td>\n",
              "      <td>47</td>\n",
              "      <td>0</td>\n",
              "      <td>285</td>\n",
              "      <td>0</td>\n",
              "      <td>0</td>\n",
              "      <td>9</td>\n",
              "      <td>1</td>\n",
              "      <td>0</td>\n",
              "      <td>0</td>\n",
              "      <td>1</td>\n",
              "      <td>2</td>\n",
              "      <td>Semi-Monthly</td>\n",
              "      <td>0</td>\n",
              "      <td>0</td>\n",
              "      <td>0</td>\n",
              "      <td>0</td>\n",
              "      <td>Capricorn</td>\n",
              "      <td>1</td>\n",
              "      <td>0</td>\n",
              "      <td>2.17</td>\n",
              "      <td>0</td>\n",
              "    </tr>\n",
              "    <tr>\n",
              "      <th>3</th>\n",
              "      <td>8095</td>\n",
              "      <td>0</td>\n",
              "      <td>26.0</td>\n",
              "      <td>R</td>\n",
              "      <td>26</td>\n",
              "      <td>3</td>\n",
              "      <td>38</td>\n",
              "      <td>25</td>\n",
              "      <td>0</td>\n",
              "      <td>74</td>\n",
              "      <td>0</td>\n",
              "      <td>0</td>\n",
              "      <td>26</td>\n",
              "      <td>1</td>\n",
              "      <td>0</td>\n",
              "      <td>0</td>\n",
              "      <td>1</td>\n",
              "      <td>0</td>\n",
              "      <td>Bi-Weekly</td>\n",
              "      <td>0</td>\n",
              "      <td>0</td>\n",
              "      <td>0</td>\n",
              "      <td>0</td>\n",
              "      <td>Capricorn</td>\n",
              "      <td>0</td>\n",
              "      <td>0</td>\n",
              "      <td>1.10</td>\n",
              "      <td>1</td>\n",
              "    </tr>\n",
              "    <tr>\n",
              "      <th>4</th>\n",
              "      <td>61353</td>\n",
              "      <td>1</td>\n",
              "      <td>27.0</td>\n",
              "      <td>na</td>\n",
              "      <td>0</td>\n",
              "      <td>0</td>\n",
              "      <td>2</td>\n",
              "      <td>0</td>\n",
              "      <td>0</td>\n",
              "      <td>0</td>\n",
              "      <td>0</td>\n",
              "      <td>0</td>\n",
              "      <td>0</td>\n",
              "      <td>1</td>\n",
              "      <td>1</td>\n",
              "      <td>1</td>\n",
              "      <td>1</td>\n",
              "      <td>0</td>\n",
              "      <td>Bi-Weekly</td>\n",
              "      <td>0</td>\n",
              "      <td>0</td>\n",
              "      <td>0</td>\n",
              "      <td>0</td>\n",
              "      <td>Aries</td>\n",
              "      <td>1</td>\n",
              "      <td>0</td>\n",
              "      <td>0.03</td>\n",
              "      <td>0</td>\n",
              "    </tr>\n",
              "  </tbody>\n",
              "</table>\n",
              "</div>"
            ],
            "text/plain": [
              "    user  churn   age housing  deposits  withdrawal  purchases_partners  \\\n",
              "0  55409      0  37.0      na         0           0                   0   \n",
              "1  23547      0  28.0       R         0           0                   1   \n",
              "2  58313      0  35.0       R        47           2                  86   \n",
              "3   8095      0  26.0       R        26           3                  38   \n",
              "4  61353      1  27.0      na         0           0                   2   \n",
              "\n",
              "   purchases  cc_taken  cc_recommended  cc_disliked  cc_liked  \\\n",
              "0          0         0               0            0         0   \n",
              "1          0         0              96            0         0   \n",
              "2         47         0             285            0         0   \n",
              "3         25         0              74            0         0   \n",
              "4          0         0               0            0         0   \n",
              "\n",
              "   cc_application_begin  app_downloaded  web_user  app_web_user  android_user  \\\n",
              "0                     0               1         1             1             0   \n",
              "1                     5               1         1             1             0   \n",
              "2                     9               1         0             0             1   \n",
              "3                    26               1         0             0             1   \n",
              "4                     0               1         1             1             1   \n",
              "\n",
              "   registered_phones  payment_type  waiting_4_loan  cancelled_loan  \\\n",
              "0                  0     Bi-Weekly               0               0   \n",
              "1                  0        Weekly               0               0   \n",
              "2                  2  Semi-Monthly               0               0   \n",
              "3                  0     Bi-Weekly               0               0   \n",
              "4                  0     Bi-Weekly               0               0   \n",
              "\n",
              "   received_loan  rejected_loan zodiac_sign  left_for_two_month_plus  \\\n",
              "0              0              0         Leo                        1   \n",
              "1              0              0         Leo                        0   \n",
              "2              0              0   Capricorn                        1   \n",
              "3              0              0   Capricorn                        0   \n",
              "4              0              0       Aries                        1   \n",
              "\n",
              "   left_for_one_month  reward_rate  is_referred  \n",
              "0                   0         0.00            0  \n",
              "1                   0         1.47            1  \n",
              "2                   0         2.17            0  \n",
              "3                   0         1.10            1  \n",
              "4                   0         0.03            0  "
            ]
          },
          "metadata": {
            "tags": []
          },
          "execution_count": 13
        }
      ]
    },
    {
      "cell_type": "markdown",
      "metadata": {
        "id": "1kNvRMx5RJF4",
        "colab_type": "text"
      },
      "source": [
        "# Part 2: Feature Preprocessing"
      ]
    },
    {
      "cell_type": "markdown",
      "metadata": {
        "id": "z7wSOrVaRJF5",
        "colab_type": "text"
      },
      "source": [
        "## 2.1 Independent variable and dependent variable separation"
      ]
    },
    {
      "cell_type": "markdown",
      "metadata": {
        "id": "pJgdLvKdRJF5",
        "colab_type": "text"
      },
      "source": [
        "- drop user because it is a unique key to identify each user, don't have much meaning\n",
        "- drop dependent variable 'churn'"
      ]
    },
    {
      "cell_type": "code",
      "metadata": {
        "id": "a3dvzk3QRJF6",
        "colab_type": "code",
        "colab": {}
      },
      "source": [
        "user_identifier = churn_df['user']"
      ],
      "execution_count": 0,
      "outputs": []
    },
    {
      "cell_type": "code",
      "metadata": {
        "id": "HyLzqYDXRJF9",
        "colab_type": "code",
        "colab": {}
      },
      "source": [
        "## Data Preparation\n",
        "dataset = churn_df.drop(columns = ['user','churn'])"
      ],
      "execution_count": 0,
      "outputs": []
    },
    {
      "cell_type": "markdown",
      "metadata": {
        "id": "FRnmXZxyRJF_",
        "colab_type": "text"
      },
      "source": [
        "## 2.2 Catagorical variable transformation"
      ]
    },
    {
      "cell_type": "code",
      "metadata": {
        "id": "KS9G6annRJGA",
        "colab_type": "code",
        "colab": {
          "base_uri": "https://localhost:8080/",
          "height": 454
        },
        "outputId": "09a35235-2b3e-47b2-f683-e910bf608383"
      },
      "source": [
        "# shows catagorical data\n",
        "print(dataset.housing.value_counts())\n",
        "print(' ')\n",
        "print(dataset.zodiac_sign.value_counts())\n",
        "print(' ')\n",
        "print(dataset.payment_type.value_counts())"
      ],
      "execution_count": 16,
      "outputs": [
        {
          "output_type": "stream",
          "text": [
            "na    13856\n",
            "R     10969\n",
            "O      2171\n",
            "Name: housing, dtype: int64\n",
            " \n",
            "Cancer         2424\n",
            "Virgo          2410\n",
            "Leo            2374\n",
            "Taurus         2236\n",
            "Gemini         2168\n",
            "na             2155\n",
            "Libra          2128\n",
            "Pisces         2127\n",
            "Scorpio        2118\n",
            "Aquarius       2117\n",
            "Sagittarius    2056\n",
            "Aries          2001\n",
            "Capricorn       682\n",
            "Name: zodiac_sign, dtype: int64\n",
            " \n",
            "Bi-Weekly       12713\n",
            "Weekly           5289\n",
            "na               3899\n",
            "Monthly          2656\n",
            "Semi-Monthly     2439\n",
            "Name: payment_type, dtype: int64\n"
          ],
          "name": "stdout"
        }
      ]
    },
    {
      "cell_type": "code",
      "metadata": {
        "id": "jmgP0FnMRJGF",
        "colab_type": "code",
        "colab": {}
      },
      "source": [
        "# transform catagorical value and remove NA value for each feature after tranformation\n",
        "# One-Hot Encoding\n",
        "dataset = pd.get_dummies(dataset)\n",
        "dataset.columns\n",
        "dataset = dataset.drop(columns = ['housing_na', 'zodiac_sign_na', 'payment_type_na'])\n",
        "X = dataset"
      ],
      "execution_count": 0,
      "outputs": []
    },
    {
      "cell_type": "code",
      "metadata": {
        "id": "ompXmmn8RJGI",
        "colab_type": "code",
        "colab": {
          "base_uri": "https://localhost:8080/",
          "height": 232
        },
        "outputId": "96feae33-4fc8-4d09-9602-dc6978be4608"
      },
      "source": [
        "X.head()"
      ],
      "execution_count": 18,
      "outputs": [
        {
          "output_type": "execute_result",
          "data": {
            "text/html": [
              "<div>\n",
              "<style scoped>\n",
              "    .dataframe tbody tr th:only-of-type {\n",
              "        vertical-align: middle;\n",
              "    }\n",
              "\n",
              "    .dataframe tbody tr th {\n",
              "        vertical-align: top;\n",
              "    }\n",
              "\n",
              "    .dataframe thead th {\n",
              "        text-align: right;\n",
              "    }\n",
              "</style>\n",
              "<table border=\"1\" class=\"dataframe\">\n",
              "  <thead>\n",
              "    <tr style=\"text-align: right;\">\n",
              "      <th></th>\n",
              "      <th>age</th>\n",
              "      <th>deposits</th>\n",
              "      <th>withdrawal</th>\n",
              "      <th>purchases_partners</th>\n",
              "      <th>purchases</th>\n",
              "      <th>cc_taken</th>\n",
              "      <th>cc_recommended</th>\n",
              "      <th>cc_disliked</th>\n",
              "      <th>cc_liked</th>\n",
              "      <th>cc_application_begin</th>\n",
              "      <th>app_downloaded</th>\n",
              "      <th>web_user</th>\n",
              "      <th>app_web_user</th>\n",
              "      <th>android_user</th>\n",
              "      <th>registered_phones</th>\n",
              "      <th>waiting_4_loan</th>\n",
              "      <th>cancelled_loan</th>\n",
              "      <th>received_loan</th>\n",
              "      <th>rejected_loan</th>\n",
              "      <th>left_for_two_month_plus</th>\n",
              "      <th>left_for_one_month</th>\n",
              "      <th>reward_rate</th>\n",
              "      <th>is_referred</th>\n",
              "      <th>housing_O</th>\n",
              "      <th>housing_R</th>\n",
              "      <th>payment_type_Bi-Weekly</th>\n",
              "      <th>payment_type_Monthly</th>\n",
              "      <th>payment_type_Semi-Monthly</th>\n",
              "      <th>payment_type_Weekly</th>\n",
              "      <th>zodiac_sign_Aquarius</th>\n",
              "      <th>zodiac_sign_Aries</th>\n",
              "      <th>zodiac_sign_Cancer</th>\n",
              "      <th>zodiac_sign_Capricorn</th>\n",
              "      <th>zodiac_sign_Gemini</th>\n",
              "      <th>zodiac_sign_Leo</th>\n",
              "      <th>zodiac_sign_Libra</th>\n",
              "      <th>zodiac_sign_Pisces</th>\n",
              "      <th>zodiac_sign_Sagittarius</th>\n",
              "      <th>zodiac_sign_Scorpio</th>\n",
              "      <th>zodiac_sign_Taurus</th>\n",
              "      <th>zodiac_sign_Virgo</th>\n",
              "    </tr>\n",
              "  </thead>\n",
              "  <tbody>\n",
              "    <tr>\n",
              "      <th>0</th>\n",
              "      <td>37.0</td>\n",
              "      <td>0</td>\n",
              "      <td>0</td>\n",
              "      <td>0</td>\n",
              "      <td>0</td>\n",
              "      <td>0</td>\n",
              "      <td>0</td>\n",
              "      <td>0</td>\n",
              "      <td>0</td>\n",
              "      <td>0</td>\n",
              "      <td>1</td>\n",
              "      <td>1</td>\n",
              "      <td>1</td>\n",
              "      <td>0</td>\n",
              "      <td>0</td>\n",
              "      <td>0</td>\n",
              "      <td>0</td>\n",
              "      <td>0</td>\n",
              "      <td>0</td>\n",
              "      <td>1</td>\n",
              "      <td>0</td>\n",
              "      <td>0.00</td>\n",
              "      <td>0</td>\n",
              "      <td>0</td>\n",
              "      <td>0</td>\n",
              "      <td>1</td>\n",
              "      <td>0</td>\n",
              "      <td>0</td>\n",
              "      <td>0</td>\n",
              "      <td>0</td>\n",
              "      <td>0</td>\n",
              "      <td>0</td>\n",
              "      <td>0</td>\n",
              "      <td>0</td>\n",
              "      <td>1</td>\n",
              "      <td>0</td>\n",
              "      <td>0</td>\n",
              "      <td>0</td>\n",
              "      <td>0</td>\n",
              "      <td>0</td>\n",
              "      <td>0</td>\n",
              "    </tr>\n",
              "    <tr>\n",
              "      <th>1</th>\n",
              "      <td>28.0</td>\n",
              "      <td>0</td>\n",
              "      <td>0</td>\n",
              "      <td>1</td>\n",
              "      <td>0</td>\n",
              "      <td>0</td>\n",
              "      <td>96</td>\n",
              "      <td>0</td>\n",
              "      <td>0</td>\n",
              "      <td>5</td>\n",
              "      <td>1</td>\n",
              "      <td>1</td>\n",
              "      <td>1</td>\n",
              "      <td>0</td>\n",
              "      <td>0</td>\n",
              "      <td>0</td>\n",
              "      <td>0</td>\n",
              "      <td>0</td>\n",
              "      <td>0</td>\n",
              "      <td>0</td>\n",
              "      <td>0</td>\n",
              "      <td>1.47</td>\n",
              "      <td>1</td>\n",
              "      <td>0</td>\n",
              "      <td>1</td>\n",
              "      <td>0</td>\n",
              "      <td>0</td>\n",
              "      <td>0</td>\n",
              "      <td>1</td>\n",
              "      <td>0</td>\n",
              "      <td>0</td>\n",
              "      <td>0</td>\n",
              "      <td>0</td>\n",
              "      <td>0</td>\n",
              "      <td>1</td>\n",
              "      <td>0</td>\n",
              "      <td>0</td>\n",
              "      <td>0</td>\n",
              "      <td>0</td>\n",
              "      <td>0</td>\n",
              "      <td>0</td>\n",
              "    </tr>\n",
              "    <tr>\n",
              "      <th>2</th>\n",
              "      <td>35.0</td>\n",
              "      <td>47</td>\n",
              "      <td>2</td>\n",
              "      <td>86</td>\n",
              "      <td>47</td>\n",
              "      <td>0</td>\n",
              "      <td>285</td>\n",
              "      <td>0</td>\n",
              "      <td>0</td>\n",
              "      <td>9</td>\n",
              "      <td>1</td>\n",
              "      <td>0</td>\n",
              "      <td>0</td>\n",
              "      <td>1</td>\n",
              "      <td>2</td>\n",
              "      <td>0</td>\n",
              "      <td>0</td>\n",
              "      <td>0</td>\n",
              "      <td>0</td>\n",
              "      <td>1</td>\n",
              "      <td>0</td>\n",
              "      <td>2.17</td>\n",
              "      <td>0</td>\n",
              "      <td>0</td>\n",
              "      <td>1</td>\n",
              "      <td>0</td>\n",
              "      <td>0</td>\n",
              "      <td>1</td>\n",
              "      <td>0</td>\n",
              "      <td>0</td>\n",
              "      <td>0</td>\n",
              "      <td>0</td>\n",
              "      <td>1</td>\n",
              "      <td>0</td>\n",
              "      <td>0</td>\n",
              "      <td>0</td>\n",
              "      <td>0</td>\n",
              "      <td>0</td>\n",
              "      <td>0</td>\n",
              "      <td>0</td>\n",
              "      <td>0</td>\n",
              "    </tr>\n",
              "    <tr>\n",
              "      <th>3</th>\n",
              "      <td>26.0</td>\n",
              "      <td>26</td>\n",
              "      <td>3</td>\n",
              "      <td>38</td>\n",
              "      <td>25</td>\n",
              "      <td>0</td>\n",
              "      <td>74</td>\n",
              "      <td>0</td>\n",
              "      <td>0</td>\n",
              "      <td>26</td>\n",
              "      <td>1</td>\n",
              "      <td>0</td>\n",
              "      <td>0</td>\n",
              "      <td>1</td>\n",
              "      <td>0</td>\n",
              "      <td>0</td>\n",
              "      <td>0</td>\n",
              "      <td>0</td>\n",
              "      <td>0</td>\n",
              "      <td>0</td>\n",
              "      <td>0</td>\n",
              "      <td>1.10</td>\n",
              "      <td>1</td>\n",
              "      <td>0</td>\n",
              "      <td>1</td>\n",
              "      <td>1</td>\n",
              "      <td>0</td>\n",
              "      <td>0</td>\n",
              "      <td>0</td>\n",
              "      <td>0</td>\n",
              "      <td>0</td>\n",
              "      <td>0</td>\n",
              "      <td>1</td>\n",
              "      <td>0</td>\n",
              "      <td>0</td>\n",
              "      <td>0</td>\n",
              "      <td>0</td>\n",
              "      <td>0</td>\n",
              "      <td>0</td>\n",
              "      <td>0</td>\n",
              "      <td>0</td>\n",
              "    </tr>\n",
              "    <tr>\n",
              "      <th>4</th>\n",
              "      <td>27.0</td>\n",
              "      <td>0</td>\n",
              "      <td>0</td>\n",
              "      <td>2</td>\n",
              "      <td>0</td>\n",
              "      <td>0</td>\n",
              "      <td>0</td>\n",
              "      <td>0</td>\n",
              "      <td>0</td>\n",
              "      <td>0</td>\n",
              "      <td>1</td>\n",
              "      <td>1</td>\n",
              "      <td>1</td>\n",
              "      <td>1</td>\n",
              "      <td>0</td>\n",
              "      <td>0</td>\n",
              "      <td>0</td>\n",
              "      <td>0</td>\n",
              "      <td>0</td>\n",
              "      <td>1</td>\n",
              "      <td>0</td>\n",
              "      <td>0.03</td>\n",
              "      <td>0</td>\n",
              "      <td>0</td>\n",
              "      <td>0</td>\n",
              "      <td>1</td>\n",
              "      <td>0</td>\n",
              "      <td>0</td>\n",
              "      <td>0</td>\n",
              "      <td>0</td>\n",
              "      <td>1</td>\n",
              "      <td>0</td>\n",
              "      <td>0</td>\n",
              "      <td>0</td>\n",
              "      <td>0</td>\n",
              "      <td>0</td>\n",
              "      <td>0</td>\n",
              "      <td>0</td>\n",
              "      <td>0</td>\n",
              "      <td>0</td>\n",
              "      <td>0</td>\n",
              "    </tr>\n",
              "  </tbody>\n",
              "</table>\n",
              "</div>"
            ],
            "text/plain": [
              "    age  deposits  withdrawal  purchases_partners  purchases  cc_taken  \\\n",
              "0  37.0         0           0                   0          0         0   \n",
              "1  28.0         0           0                   1          0         0   \n",
              "2  35.0        47           2                  86         47         0   \n",
              "3  26.0        26           3                  38         25         0   \n",
              "4  27.0         0           0                   2          0         0   \n",
              "\n",
              "   cc_recommended  cc_disliked  cc_liked  cc_application_begin  \\\n",
              "0               0            0         0                     0   \n",
              "1              96            0         0                     5   \n",
              "2             285            0         0                     9   \n",
              "3              74            0         0                    26   \n",
              "4               0            0         0                     0   \n",
              "\n",
              "   app_downloaded  web_user  app_web_user  android_user  registered_phones  \\\n",
              "0               1         1             1             0                  0   \n",
              "1               1         1             1             0                  0   \n",
              "2               1         0             0             1                  2   \n",
              "3               1         0             0             1                  0   \n",
              "4               1         1             1             1                  0   \n",
              "\n",
              "   waiting_4_loan  cancelled_loan  received_loan  rejected_loan  \\\n",
              "0               0               0              0              0   \n",
              "1               0               0              0              0   \n",
              "2               0               0              0              0   \n",
              "3               0               0              0              0   \n",
              "4               0               0              0              0   \n",
              "\n",
              "   left_for_two_month_plus  left_for_one_month  reward_rate  is_referred  \\\n",
              "0                        1                   0         0.00            0   \n",
              "1                        0                   0         1.47            1   \n",
              "2                        1                   0         2.17            0   \n",
              "3                        0                   0         1.10            1   \n",
              "4                        1                   0         0.03            0   \n",
              "\n",
              "   housing_O  housing_R  payment_type_Bi-Weekly  payment_type_Monthly  \\\n",
              "0          0          0                       1                     0   \n",
              "1          0          1                       0                     0   \n",
              "2          0          1                       0                     0   \n",
              "3          0          1                       1                     0   \n",
              "4          0          0                       1                     0   \n",
              "\n",
              "   payment_type_Semi-Monthly  payment_type_Weekly  zodiac_sign_Aquarius  \\\n",
              "0                          0                    0                     0   \n",
              "1                          0                    1                     0   \n",
              "2                          1                    0                     0   \n",
              "3                          0                    0                     0   \n",
              "4                          0                    0                     0   \n",
              "\n",
              "   zodiac_sign_Aries  zodiac_sign_Cancer  zodiac_sign_Capricorn  \\\n",
              "0                  0                   0                      0   \n",
              "1                  0                   0                      0   \n",
              "2                  0                   0                      1   \n",
              "3                  0                   0                      1   \n",
              "4                  1                   0                      0   \n",
              "\n",
              "   zodiac_sign_Gemini  zodiac_sign_Leo  zodiac_sign_Libra  zodiac_sign_Pisces  \\\n",
              "0                   0                1                  0                   0   \n",
              "1                   0                1                  0                   0   \n",
              "2                   0                0                  0                   0   \n",
              "3                   0                0                  0                   0   \n",
              "4                   0                0                  0                   0   \n",
              "\n",
              "   zodiac_sign_Sagittarius  zodiac_sign_Scorpio  zodiac_sign_Taurus  \\\n",
              "0                        0                    0                   0   \n",
              "1                        0                    0                   0   \n",
              "2                        0                    0                   0   \n",
              "3                        0                    0                   0   \n",
              "4                        0                    0                   0   \n",
              "\n",
              "   zodiac_sign_Virgo  \n",
              "0                  0  \n",
              "1                  0  \n",
              "2                  0  \n",
              "3                  0  \n",
              "4                  0  "
            ]
          },
          "metadata": {
            "tags": []
          },
          "execution_count": 18
        }
      ]
    },
    {
      "cell_type": "code",
      "metadata": {
        "id": "SHvLRg6lRJGJ",
        "colab_type": "code",
        "colab": {}
      },
      "source": [
        "y = churn_df['churn'] "
      ],
      "execution_count": 0,
      "outputs": []
    },
    {
      "cell_type": "code",
      "metadata": {
        "id": "t0_2O814RJGL",
        "colab_type": "code",
        "colab": {
          "base_uri": "https://localhost:8080/",
          "height": 50
        },
        "outputId": "590372c3-7a7f-4089-bb21-3bb70ad56884"
      },
      "source": [
        "print (\"Num of rows: \" + str(dataset.shape[0])) # row count\n",
        "print (\"Num of columns: \" + str(dataset.shape[1])) # col count"
      ],
      "execution_count": 20,
      "outputs": [
        {
          "output_type": "stream",
          "text": [
            "Num of rows: 26996\n",
            "Num of columns: 41\n"
          ],
          "name": "stdout"
        }
      ]
    },
    {
      "cell_type": "markdown",
      "metadata": {
        "id": "vFmRRKo5RJGN",
        "colab_type": "text"
      },
      "source": [
        "## 2.3 Standarization"
      ]
    },
    {
      "cell_type": "code",
      "metadata": {
        "id": "R6bU3NDTRJGN",
        "colab_type": "code",
        "colab": {}
      },
      "source": [
        "# Scale the data\n",
        "import warnings\n",
        "warnings.filterwarnings('ignore')\n",
        "from sklearn.preprocessing import StandardScaler"
      ],
      "execution_count": 0,
      "outputs": []
    },
    {
      "cell_type": "code",
      "metadata": {
        "id": "XHzgwcUNRJGP",
        "colab_type": "code",
        "colab": {}
      },
      "source": [
        "scaler = StandardScaler()\n",
        "X = pd.DataFrame(scaler.fit_transform(X))\n",
        "X.columns = X.columns.values\n",
        "X.index=X.index.values"
      ],
      "execution_count": 0,
      "outputs": []
    },
    {
      "cell_type": "code",
      "metadata": {
        "id": "-kfbGn9gRJGQ",
        "colab_type": "code",
        "colab": {
          "base_uri": "https://localhost:8080/",
          "height": 50
        },
        "outputId": "b257816b-2b0b-4173-d955-f1a67ea51e40"
      },
      "source": [
        "print (\"Feature space holds %d observations and %d features\" % X.shape)\n",
        "print (\"Unique target labels:\", np.unique(y))"
      ],
      "execution_count": 23,
      "outputs": [
        {
          "output_type": "stream",
          "text": [
            "Feature space holds 26996 observations and 41 features\n",
            "Unique target labels: [0 1]\n"
          ],
          "name": "stdout"
        }
      ]
    },
    {
      "cell_type": "markdown",
      "metadata": {
        "id": "xhvKrplzRJGR",
        "colab_type": "text"
      },
      "source": [
        "# Part 3: Model Training and Result Evaluation"
      ]
    },
    {
      "cell_type": "markdown",
      "metadata": {
        "id": "Ly1rD03kRJGS",
        "colab_type": "text"
      },
      "source": [
        "### Part 3.1: Split dataset"
      ]
    },
    {
      "cell_type": "code",
      "metadata": {
        "id": "gDzAn7nbRJGS",
        "colab_type": "code",
        "colab": {
          "base_uri": "https://localhost:8080/",
          "height": 50
        },
        "outputId": "f4e1026c-6443-43a6-af83-2bedff2f34ff"
      },
      "source": [
        "from sklearn import model_selection\n",
        "X_train, X_test, y_train, y_test = model_selection.train_test_split(X, y, test_size=0.2)\n",
        "\n",
        "print('training data has %d observation with %d features'% X_train.shape)\n",
        "print('test data has %d observation with %d features'% X_test.shape)"
      ],
      "execution_count": 24,
      "outputs": [
        {
          "output_type": "stream",
          "text": [
            "training data has 21596 observation with 41 features\n",
            "test data has 5400 observation with 41 features\n"
          ],
          "name": "stdout"
        }
      ]
    },
    {
      "cell_type": "markdown",
      "metadata": {
        "id": "lPZtwKODRJGU",
        "colab_type": "text"
      },
      "source": [
        "### Part 3.2: Model Training and Selection"
      ]
    },
    {
      "cell_type": "markdown",
      "metadata": {
        "id": "-j6ZiW2mRJGU",
        "colab_type": "text"
      },
      "source": [
        "### Train logistic regression, KNN, Random Forest model"
      ]
    },
    {
      "cell_type": "code",
      "metadata": {
        "id": "zra6fZ9ZRJGV",
        "colab_type": "code",
        "colab": {}
      },
      "source": [
        "from sklearn.ensemble import RandomForestClassifier\n",
        "from sklearn.neighbors import KNeighborsClassifier \n",
        "from sklearn.linear_model import LogisticRegression\n",
        "\n",
        "classifier_logistic = LogisticRegression()\n",
        "classifier_KNN = KNeighborsClassifier()\n",
        "classifier_RF = RandomForestClassifier()"
      ],
      "execution_count": 0,
      "outputs": []
    },
    {
      "cell_type": "markdown",
      "metadata": {
        "id": "aZjOsZW_RJGX",
        "colab_type": "text"
      },
      "source": [
        "### Use 5 fold cross validation find the average accuracy for each model"
      ]
    },
    {
      "cell_type": "code",
      "metadata": {
        "id": "bhCNgFxGRJGY",
        "colab_type": "code",
        "colab": {
          "base_uri": "https://localhost:8080/",
          "height": 67
        },
        "outputId": "9aa35b60-b4cf-4f76-f047-209879d85f3c"
      },
      "source": [
        "model_names = ['Logistic Regression','KNN','Random Forest']\n",
        "model_list = [classifier_logistic, classifier_KNN, classifier_RF]\n",
        "count = 0\n",
        "for classifier in model_list:\n",
        "    cv_score = model_selection.cross_val_score(classifier, X_train, y_train, cv=5)\n",
        "    print('Model accuracy of %s is: %.3f'%(model_names[count],cv_score.mean()))\n",
        "    count += 1"
      ],
      "execution_count": 26,
      "outputs": [
        {
          "output_type": "stream",
          "text": [
            "Model accuracy of Logistic Regression is: 0.647\n",
            "Model accuracy of KNN is: 0.597\n",
            "Model accuracy of Random Forest is: 0.689\n"
          ],
          "name": "stdout"
        }
      ]
    },
    {
      "cell_type": "markdown",
      "metadata": {
        "id": "doNitGDhRJGZ",
        "colab_type": "text"
      },
      "source": [
        "### Prediction with SVM model"
      ]
    },
    {
      "cell_type": "code",
      "metadata": {
        "id": "9jU54wz8RJGa",
        "colab_type": "code",
        "colab": {}
      },
      "source": [
        "from sklearn import svm\n",
        "#Create a svm Classifier\n",
        "clf = svm.SVC(kernel='linear') # Linear Kernel\n",
        "#Train the model using the training sets\n",
        "clf.fit(X_train, y_train)\n",
        "#Predict the response for test dataset\n",
        "y_pred = clf.predict(X_test)"
      ],
      "execution_count": 0,
      "outputs": []
    },
    {
      "cell_type": "code",
      "metadata": {
        "id": "DxtXjOaiRJGb",
        "colab_type": "code",
        "colab": {
          "base_uri": "https://localhost:8080/",
          "height": 67
        },
        "outputId": "b324becd-f776-4ec3-b078-db427460a227"
      },
      "source": [
        "#Import scikit-learn metrics module for accuracy calculation\n",
        "from sklearn import metrics\n",
        "print('How often is the classifier correct?',\"Accuracy:\",metrics.accuracy_score(y_test, y_pred))\n",
        "print('what percentage of positive tuples are labeled as such?',\"Precision:\",metrics.precision_score(y_test, y_pred))\n",
        "print('what percentage of positive tuples are labelled as such?',\"Recall:\",metrics.recall_score(y_test, y_pred))"
      ],
      "execution_count": 28,
      "outputs": [
        {
          "output_type": "stream",
          "text": [
            "How often is the classifier correct? Accuracy: 0.6338888888888888\n",
            "what percentage of positive tuples are labeled as such? Precision: 0.6255742725880551\n",
            "what percentage of positive tuples are labelled as such? Recall: 0.3544468546637744\n"
          ],
          "name": "stdout"
        }
      ]
    },
    {
      "cell_type": "markdown",
      "metadata": {
        "id": "HTw8Cc_ORJGd",
        "colab_type": "text"
      },
      "source": [
        "### Part 3.3: Use Grid Search to Find Optimal Hyperparameters "
      ]
    },
    {
      "cell_type": "code",
      "metadata": {
        "id": "3akj65imRJGd",
        "colab_type": "code",
        "colab": {}
      },
      "source": [
        "# Define a function that find the best parameter for the fitted model\n",
        "from sklearn.model_selection import GridSearchCV\n",
        "def print_grid_search_metrics(gs):\n",
        "    print (\"Best score: %0.3f\" % gs.best_score_)\n",
        "    print (\"Best parameters set:\")\n",
        "    best_parameters = gs.best_params_\n",
        "    for param_name in sorted(parameters.keys()):\n",
        "        print(\"\\t%s: %r\" % (param_name, best_parameters[param_name]))"
      ],
      "execution_count": 0,
      "outputs": []
    },
    {
      "cell_type": "markdown",
      "metadata": {
        "id": "U5cV1ZL5RJGf",
        "colab_type": "text"
      },
      "source": [
        "#### Part 3.3.1: Find Optimal Hyperparameters - LogisticRegression"
      ]
    },
    {
      "cell_type": "code",
      "metadata": {
        "scrolled": true,
        "id": "yX9zf0TbRJGf",
        "colab_type": "code",
        "colab": {
          "base_uri": "https://localhost:8080/",
          "height": 235
        },
        "outputId": "ec0d5e81-783d-4b44-f9c0-dabe4843e155"
      },
      "source": [
        "parameters = {\n",
        "    'penalty':('l1', 'l2'), \n",
        "    'C':(1, 5, 10)\n",
        "}\n",
        "Grid_LR = GridSearchCV(LogisticRegression(),parameters, cv=5)\n",
        "Grid_LR.fit(X_train, y_train)"
      ],
      "execution_count": 30,
      "outputs": [
        {
          "output_type": "execute_result",
          "data": {
            "text/plain": [
              "GridSearchCV(cv=5, error_score='raise-deprecating',\n",
              "             estimator=LogisticRegression(C=1.0, class_weight=None, dual=False,\n",
              "                                          fit_intercept=True,\n",
              "                                          intercept_scaling=1, l1_ratio=None,\n",
              "                                          max_iter=100, multi_class='warn',\n",
              "                                          n_jobs=None, penalty='l2',\n",
              "                                          random_state=None, solver='warn',\n",
              "                                          tol=0.0001, verbose=0,\n",
              "                                          warm_start=False),\n",
              "             iid='warn', n_jobs=None,\n",
              "             param_grid={'C': (1, 5, 10), 'penalty': ('l1', 'l2')},\n",
              "             pre_dispatch='2*n_jobs', refit=True, return_train_score=False,\n",
              "             scoring=None, verbose=0)"
            ]
          },
          "metadata": {
            "tags": []
          },
          "execution_count": 30
        }
      ]
    },
    {
      "cell_type": "code",
      "metadata": {
        "id": "0WNxifB9RJGh",
        "colab_type": "code",
        "colab": {
          "base_uri": "https://localhost:8080/",
          "height": 84
        },
        "outputId": "42d8acd8-356d-4141-d61d-6c9bcb1143a0"
      },
      "source": [
        "print_grid_search_metrics(Grid_LR)"
      ],
      "execution_count": 31,
      "outputs": [
        {
          "output_type": "stream",
          "text": [
            "Best score: 0.647\n",
            "Best parameters set:\n",
            "\tC: 1\n",
            "\tpenalty: 'l2'\n"
          ],
          "name": "stdout"
        }
      ]
    },
    {
      "cell_type": "code",
      "metadata": {
        "id": "ShHHZswxRJGj",
        "colab_type": "code",
        "colab": {}
      },
      "source": [
        "best_LR_model = Grid_LR.best_estimator_"
      ],
      "execution_count": 0,
      "outputs": []
    },
    {
      "cell_type": "markdown",
      "metadata": {
        "id": "Uy_xnD_NRJGl",
        "colab_type": "text"
      },
      "source": [
        "#### Part 3.3.2: Find Optimal Hyperparameters: KNN"
      ]
    },
    {
      "cell_type": "code",
      "metadata": {
        "id": "SJZpepwoRJGl",
        "colab_type": "code",
        "colab": {
          "base_uri": "https://localhost:8080/",
          "height": 168
        },
        "outputId": "24e8fc17-ad11-47b8-d07b-97c142636280"
      },
      "source": [
        "parameters = {\n",
        "    'n_neighbors':[3,5,7,10] \n",
        "}\n",
        "Grid_KNN = GridSearchCV(KNeighborsClassifier(),parameters, cv=5)\n",
        "Grid_KNN.fit(X_train, y_train)"
      ],
      "execution_count": 33,
      "outputs": [
        {
          "output_type": "execute_result",
          "data": {
            "text/plain": [
              "GridSearchCV(cv=5, error_score='raise-deprecating',\n",
              "             estimator=KNeighborsClassifier(algorithm='auto', leaf_size=30,\n",
              "                                            metric='minkowski',\n",
              "                                            metric_params=None, n_jobs=None,\n",
              "                                            n_neighbors=5, p=2,\n",
              "                                            weights='uniform'),\n",
              "             iid='warn', n_jobs=None, param_grid={'n_neighbors': [3, 5, 7, 10]},\n",
              "             pre_dispatch='2*n_jobs', refit=True, return_train_score=False,\n",
              "             scoring=None, verbose=0)"
            ]
          },
          "metadata": {
            "tags": []
          },
          "execution_count": 33
        }
      ]
    },
    {
      "cell_type": "code",
      "metadata": {
        "scrolled": true,
        "id": "YVeGMcy6RJGn",
        "colab_type": "code",
        "colab": {
          "base_uri": "https://localhost:8080/",
          "height": 67
        },
        "outputId": "52fa96f4-3b5f-4032-b7fb-2227cd252bed"
      },
      "source": [
        "print_grid_search_metrics(Grid_KNN)"
      ],
      "execution_count": 34,
      "outputs": [
        {
          "output_type": "stream",
          "text": [
            "Best score: 0.610\n",
            "Best parameters set:\n",
            "\tn_neighbors: 10\n"
          ],
          "name": "stdout"
        }
      ]
    },
    {
      "cell_type": "markdown",
      "metadata": {
        "id": "H-epqe5xRJGo",
        "colab_type": "text"
      },
      "source": [
        "#### Part 3.3.3: Find Optimal Hyperparameters: Random Forest"
      ]
    },
    {
      "cell_type": "code",
      "metadata": {
        "id": "1hxcqC4oRJGo",
        "colab_type": "code",
        "colab": {
          "base_uri": "https://localhost:8080/",
          "height": 302
        },
        "outputId": "a711f475-9db0-498a-b140-dcb8aa089d0f"
      },
      "source": [
        "parameters = {\n",
        "    'n_estimators' : [40,60,80]\n",
        "}\n",
        "Grid_RF = GridSearchCV(RandomForestClassifier(),parameters, cv=5)\n",
        "Grid_RF.fit(X_train, y_train)"
      ],
      "execution_count": 35,
      "outputs": [
        {
          "output_type": "execute_result",
          "data": {
            "text/plain": [
              "GridSearchCV(cv=5, error_score='raise-deprecating',\n",
              "             estimator=RandomForestClassifier(bootstrap=True, class_weight=None,\n",
              "                                              criterion='gini', max_depth=None,\n",
              "                                              max_features='auto',\n",
              "                                              max_leaf_nodes=None,\n",
              "                                              min_impurity_decrease=0.0,\n",
              "                                              min_impurity_split=None,\n",
              "                                              min_samples_leaf=1,\n",
              "                                              min_samples_split=2,\n",
              "                                              min_weight_fraction_leaf=0.0,\n",
              "                                              n_estimators='warn', n_jobs=None,\n",
              "                                              oob_score=False,\n",
              "                                              random_state=None, verbose=0,\n",
              "                                              warm_start=False),\n",
              "             iid='warn', n_jobs=None, param_grid={'n_estimators': [40, 60, 80]},\n",
              "             pre_dispatch='2*n_jobs', refit=True, return_train_score=False,\n",
              "             scoring=None, verbose=0)"
            ]
          },
          "metadata": {
            "tags": []
          },
          "execution_count": 35
        }
      ]
    },
    {
      "cell_type": "code",
      "metadata": {
        "scrolled": true,
        "id": "gSvfQW_vRJGr",
        "colab_type": "code",
        "colab": {
          "base_uri": "https://localhost:8080/",
          "height": 67
        },
        "outputId": "d064126a-8eb4-4924-e9b2-97c2c96721c9"
      },
      "source": [
        "print_grid_search_metrics(Grid_RF)"
      ],
      "execution_count": 36,
      "outputs": [
        {
          "output_type": "stream",
          "text": [
            "Best score: 0.716\n",
            "Best parameters set:\n",
            "\tn_estimators: 60\n"
          ],
          "name": "stdout"
        }
      ]
    },
    {
      "cell_type": "code",
      "metadata": {
        "id": "Dw2TFTUVRJGu",
        "colab_type": "code",
        "colab": {}
      },
      "source": [
        "best_RF_model = Grid_RF.best_estimator_"
      ],
      "execution_count": 0,
      "outputs": []
    },
    {
      "cell_type": "markdown",
      "metadata": {
        "id": "6PM0kYejRJGx",
        "colab_type": "text"
      },
      "source": [
        "### Part 3.4: Model Evaluation - Confusion Matrix (Precision, Recall, Accuracy)"
      ]
    },
    {
      "cell_type": "code",
      "metadata": {
        "id": "LV5rg9X_RJGx",
        "colab_type": "code",
        "colab": {}
      },
      "source": [
        "from sklearn.metrics import confusion_matrix\n",
        "from sklearn.metrics import precision_score\n",
        "from sklearn.metrics import recall_score\n",
        "\n",
        "def cal_evaluation(classifier, cm):\n",
        "    tn = cm[0][0]\n",
        "    fp = cm[0][1]\n",
        "    fn = cm[1][0]\n",
        "    tp = cm[1][1]\n",
        "    accuracy  = (tp + tn) / (tp + fp + fn + tn + 0.0)\n",
        "    precision = tp / (tp + fp + 0.0)\n",
        "    recall = tp / (tp + fn + 0.0)\n",
        "    print (classifier)\n",
        "    print (\"Accuracy is: %0.3f\" % accuracy)\n",
        "    print (\"precision is: %0.3f\" % precision)\n",
        "    print (\"recall is: %0.3f\" % recall)\n",
        "\n",
        "def draw_confusion_matrices(confusion_matricies):\n",
        "    class_names = ['Not','Churn']\n",
        "    for cm in confusion_matrices:\n",
        "        classifier, cm = cm[0], cm[1]\n",
        "        cal_evaluation(classifier, cm)\n",
        "        fig = plt.figure()\n",
        "        ax = fig.add_subplot(111)\n",
        "        cax = ax.matshow(cm, interpolation='nearest',cmap=plt.get_cmap('Reds'))\n",
        "        plt.title('Confusion matrix for %s' % classifier)\n",
        "        fig.colorbar(cax)\n",
        "        ax.set_xticklabels([''] + class_names)\n",
        "        ax.set_yticklabels([''] + class_names)\n",
        "        plt.xlabel('Predicted')\n",
        "        plt.ylabel('True')\n",
        "        plt.show()"
      ],
      "execution_count": 0,
      "outputs": []
    },
    {
      "cell_type": "code",
      "metadata": {
        "id": "GTy4fYE1RJGz",
        "colab_type": "code",
        "colab": {
          "base_uri": "https://localhost:8080/",
          "height": 702
        },
        "outputId": "e6be601f-bede-429b-a400-ccccf974430e"
      },
      "source": [
        "%matplotlib inline\n",
        "\n",
        "confusion_matrices = [\n",
        "    (\"Random Forest\", confusion_matrix(y_test,best_RF_model.predict(X_test))),\n",
        "    (\"Logistic Regression\", confusion_matrix(y_test,best_LR_model.predict(X_test))),\n",
        "]\n",
        "\n",
        "draw_confusion_matrices(confusion_matrices)"
      ],
      "execution_count": 39,
      "outputs": [
        {
          "output_type": "stream",
          "text": [
            "Random Forest\n",
            "Accuracy is: 0.709\n",
            "precision is: 0.700\n",
            "recall is: 0.558\n"
          ],
          "name": "stdout"
        },
        {
          "output_type": "display_data",
          "data": {
            "image/png": "[encoded data removed]",
            "text/plain": [
              "<Figure size 432x288 with 2 Axes>"
            ]
          },
          "metadata": {
            "tags": []
          }
        },
        {
          "output_type": "stream",
          "text": [
            "Logistic Regression\n",
            "Accuracy is: 0.648\n",
            "precision is: 0.614\n",
            "recall is: 0.472\n"
          ],
          "name": "stdout"
        },
        {
          "output_type": "display_data",
          "data": {
            "image/png": "[encoded data removed]",
            "text/plain": [
              "<Figure size 432x288 with 2 Axes>"
            ]
          },
          "metadata": {
            "tags": []
          }
        }
      ]
    },
    {
      "cell_type": "markdown",
      "metadata": {
        "id": "Aq2zmggcRJG0",
        "colab_type": "text"
      },
      "source": [
        "### Part 3.4: Model Evaluation - ROC & AUC"
      ]
    },
    {
      "cell_type": "markdown",
      "metadata": {
        "id": "ZDnLoUMBRJG1",
        "colab_type": "text"
      },
      "source": [
        "RandomForestClassifier, KNeighborsClassifier and LogisticRegression have predict_prob() function "
      ]
    },
    {
      "cell_type": "markdown",
      "metadata": {
        "id": "9ooTquKKRJG1",
        "colab_type": "text"
      },
      "source": [
        "#### Part 3.4.1: ROC of RF Model"
      ]
    },
    {
      "cell_type": "code",
      "metadata": {
        "id": "j5Rf60qVRJG5",
        "colab_type": "code",
        "colab": {}
      },
      "source": [
        "from sklearn.metrics import roc_curve\n",
        "from sklearn import metrics\n",
        "y_pred_rf = best_RF_model.predict_proba(X_test)[:, 1]\n",
        "fpr_rf, tpr_rf, _ = roc_curve(y_test, y_pred_rf)"
      ],
      "execution_count": 0,
      "outputs": []
    },
    {
      "cell_type": "code",
      "metadata": {
        "id": "N-zDN7NxRJG9",
        "colab_type": "code",
        "colab": {
          "base_uri": "https://localhost:8080/",
          "height": 301
        },
        "outputId": "c2e1391b-c3e5-430c-b7ee-7348b901cc7b"
      },
      "source": [
        "plt.figure(1)\n",
        "plt.plot([0, 1], [0, 1], 'k--')\n",
        "plt.plot(fpr_rf, tpr_rf, label='RF')\n",
        "plt.xlabel('False positive rate')\n",
        "plt.ylabel('True positive rate')\n",
        "plt.title('ROC curve - RF model')\n",
        "plt.legend(loc='best')\n",
        "plt.show()"
      ],
      "execution_count": 41,
      "outputs": [
        {
          "output_type": "display_data",
          "data": {
            "image/png": "[encoded data removed]",
            "text/plain": [
              "<Figure size 432x288 with 1 Axes>"
            ]
          },
          "metadata": {
            "tags": []
          }
        }
      ]
    },
    {
      "cell_type": "code",
      "metadata": {
        "id": "D1-RcaeIRJG_",
        "colab_type": "code",
        "colab": {
          "base_uri": "https://localhost:8080/",
          "height": 34
        },
        "outputId": "f0c45c1b-d951-43d6-ed68-fb7ba61093f4"
      },
      "source": [
        "from sklearn import metrics\n",
        "metrics.auc(fpr_rf,tpr_rf)"
      ],
      "execution_count": 42,
      "outputs": [
        {
          "output_type": "execute_result",
          "data": {
            "text/plain": [
              "0.7815492765253592"
            ]
          },
          "metadata": {
            "tags": []
          },
          "execution_count": 42
        }
      ]
    },
    {
      "cell_type": "markdown",
      "metadata": {
        "id": "FDWOKhz7RJHB",
        "colab_type": "text"
      },
      "source": [
        "#### Part 3.4.1: ROC of LR Model"
      ]
    },
    {
      "cell_type": "code",
      "metadata": {
        "id": "r7VYLNLXRJHB",
        "colab_type": "code",
        "colab": {}
      },
      "source": [
        "y_pred_lr = best_LR_model.predict_proba(X_test)[:, 1]\n",
        "fpr_lr, tpr_lr, _ = roc_curve(y_test, y_pred_lr)"
      ],
      "execution_count": 0,
      "outputs": []
    },
    {
      "cell_type": "code",
      "metadata": {
        "id": "Q6Jno43ERJHD",
        "colab_type": "code",
        "colab": {
          "base_uri": "https://localhost:8080/",
          "height": 301
        },
        "outputId": "7c86b2a5-e1f7-45da-e3d6-ab856308e7ce"
      },
      "source": [
        "plt.figure(1)\n",
        "plt.plot([0, 1], [0, 1], 'k--')\n",
        "plt.plot(fpr_lr, tpr_lr, label='LR')\n",
        "plt.xlabel('False positive rate')\n",
        "plt.ylabel('True positive rate')\n",
        "plt.title('ROC curve - LR Model')\n",
        "plt.legend(loc='best')\n",
        "plt.show()"
      ],
      "execution_count": 44,
      "outputs": [
        {
          "output_type": "display_data",
          "data": {
            "image/png": "[encoded data removed]",
            "text/plain": [
              "<Figure size 432x288 with 1 Axes>"
            ]
          },
          "metadata": {
            "tags": []
          }
        }
      ]
    },
    {
      "cell_type": "code",
      "metadata": {
        "id": "v-TKwAl-RJHE",
        "colab_type": "code",
        "colab": {
          "base_uri": "https://localhost:8080/",
          "height": 34
        },
        "outputId": "8d437b9b-3ef5-436d-a503-6e79c806d78f"
      },
      "source": [
        "metrics.auc(fpr_lr,tpr_lr)"
      ],
      "execution_count": 45,
      "outputs": [
        {
          "output_type": "execute_result",
          "data": {
            "text/plain": [
              "0.7024242445480955"
            ]
          },
          "metadata": {
            "tags": []
          },
          "execution_count": 45
        }
      ]
    },
    {
      "cell_type": "markdown",
      "metadata": {
        "id": "eBkDCV-9RJHH",
        "colab_type": "text"
      },
      "source": [
        "# Part 4: Feature Selection"
      ]
    },
    {
      "cell_type": "markdown",
      "metadata": {
        "id": "S2EvqXotRJHI",
        "colab_type": "text"
      },
      "source": [
        "### Part 4.1:  Logistic Regression Model - Feature Selection Discussion "
      ]
    },
    {
      "cell_type": "code",
      "metadata": {
        "scrolled": true,
        "id": "AoKiSe9qRJHI",
        "colab_type": "code",
        "colab": {
          "base_uri": "https://localhost:8080/",
          "height": 722
        },
        "outputId": "2f870adb-442a-464b-834e-23fbc5a376c6"
      },
      "source": [
        "LRmodel_l1 = LogisticRegression(penalty=\"l1\")\n",
        "LRmodel_l1.fit(X, y)\n",
        "LRmodel_l1.coef_[0]\n",
        "print (\"Logistic Regression (L1) Coefficients\")\n",
        "for k,v in sorted(zip(map(lambda x: round(x, 4), LRmodel_l1.coef_[0]), \\\n",
        "                      dataset.columns), key=lambda k_v:(-abs(k_v[0]),k_v[1])):\n",
        "    print (v + \": \" + str(k))"
      ],
      "execution_count": 46,
      "outputs": [
        {
          "output_type": "stream",
          "text": [
            "Logistic Regression (L1) Coefficients\n",
            "purchases_partners: -0.7522\n",
            "purchases: -0.3457\n",
            "deposits: 0.2236\n",
            "reward_rate: -0.1786\n",
            "age: -0.1708\n",
            "web_user: 0.1489\n",
            "rejected_loan: 0.1107\n",
            "registered_phones: 0.1085\n",
            "received_loan: 0.0957\n",
            "cancelled_loan: 0.0779\n",
            "cc_taken: 0.0698\n",
            "payment_type_Weekly: 0.0635\n",
            "android_user: -0.0587\n",
            "left_for_two_month_plus: 0.0553\n",
            "left_for_one_month: 0.0507\n",
            "withdrawal: 0.0486\n",
            "payment_type_Bi-Weekly: -0.0458\n",
            "cc_recommended: 0.0429\n",
            "housing_R: 0.0401\n",
            "housing_O: -0.0382\n",
            "waiting_4_loan: -0.0296\n",
            "zodiac_sign_Pisces: 0.0291\n",
            "cc_application_begin: 0.0272\n",
            "payment_type_Semi-Monthly: -0.0248\n",
            "zodiac_sign_Aquarius: -0.0215\n",
            "app_downloaded: 0.0197\n",
            "is_referred: 0.0197\n",
            "zodiac_sign_Cancer: 0.0193\n",
            "zodiac_sign_Capricorn: 0.0192\n",
            "payment_type_Monthly: -0.0178\n",
            "cc_disliked: -0.0175\n",
            "app_web_user: -0.0157\n",
            "zodiac_sign_Aries: 0.0144\n",
            "zodiac_sign_Gemini: -0.0138\n",
            "zodiac_sign_Libra: -0.0122\n",
            "zodiac_sign_Taurus: -0.0109\n",
            "cc_liked: -0.0081\n",
            "zodiac_sign_Virgo: 0.0072\n",
            "zodiac_sign_Scorpio: -0.006\n",
            "zodiac_sign_Sagittarius: 0.004\n",
            "zodiac_sign_Leo: -0.0015\n"
          ],
          "name": "stdout"
        }
      ]
    },
    {
      "cell_type": "code",
      "metadata": {
        "id": "4qfZPAlWRJHK",
        "colab_type": "code",
        "colab": {
          "base_uri": "https://localhost:8080/",
          "height": 722
        },
        "outputId": "cfc540f5-3820-42f6-fcf5-e58dd596f628"
      },
      "source": [
        "LRmodel_l2 = LogisticRegression(penalty=\"l2\")\n",
        "LRmodel_l2.fit(X, y)\n",
        "LRmodel_l2.coef_[0]\n",
        "print (\"Logistic Regression (L2) Coefficients\")\n",
        "for k,v in sorted(zip(map(lambda x: round(x, 4), LRmodel_l2.coef_[0]), \\\n",
        "                      dataset.columns), key=lambda k_v:(-abs(k_v[0]),k_v[1])):\n",
        "    print (v + \": \" + str(k))"
      ],
      "execution_count": 47,
      "outputs": [
        {
          "output_type": "stream",
          "text": [
            "Logistic Regression (L2) Coefficients\n",
            "purchases_partners: -0.753\n",
            "purchases: -0.4402\n",
            "deposits: 0.3175\n",
            "reward_rate: -0.1796\n",
            "web_user: 0.1769\n",
            "age: -0.1711\n",
            "rejected_loan: 0.111\n",
            "registered_phones: 0.1085\n",
            "received_loan: 0.0959\n",
            "cancelled_loan: 0.0781\n",
            "cc_taken: 0.0699\n",
            "payment_type_Weekly: 0.0632\n",
            "android_user: -0.0589\n",
            "left_for_two_month_plus: 0.0555\n",
            "left_for_one_month: 0.0509\n",
            "withdrawal: 0.0489\n",
            "payment_type_Bi-Weekly: -0.0464\n",
            "app_web_user: -0.0444\n",
            "cc_recommended: 0.0442\n",
            "housing_R: 0.0403\n",
            "housing_O: -0.0383\n",
            "app_downloaded: 0.0313\n",
            "waiting_4_loan: -0.0298\n",
            "zodiac_sign_Pisces: 0.0293\n",
            "cc_application_begin: 0.0273\n",
            "payment_type_Semi-Monthly: -0.0252\n",
            "zodiac_sign_Aquarius: -0.0217\n",
            "is_referred: 0.0198\n",
            "zodiac_sign_Cancer: 0.0195\n",
            "zodiac_sign_Capricorn: 0.0193\n",
            "payment_type_Monthly: -0.0182\n",
            "cc_disliked: -0.0178\n",
            "zodiac_sign_Aries: 0.0145\n",
            "zodiac_sign_Gemini: -0.014\n",
            "zodiac_sign_Libra: -0.0124\n",
            "zodiac_sign_Taurus: -0.0111\n",
            "cc_liked: -0.0084\n",
            "zodiac_sign_Virgo: 0.0073\n",
            "zodiac_sign_Scorpio: -0.0062\n",
            "zodiac_sign_Sagittarius: 0.0042\n",
            "zodiac_sign_Leo: -0.0016\n"
          ],
          "name": "stdout"
        }
      ]
    },
    {
      "cell_type": "markdown",
      "metadata": {
        "id": "7FtafbWDRJHL",
        "colab_type": "text"
      },
      "source": [
        "### Part 4.2:  Random Forest Model - Feature Importance Discussion"
      ]
    },
    {
      "cell_type": "code",
      "metadata": {
        "id": "MlhEQJyHRJHL",
        "colab_type": "code",
        "colab": {
          "base_uri": "https://localhost:8080/",
          "height": 722
        },
        "outputId": "b4596791-6c5f-4f45-d1ab-9046ac5bfcb4"
      },
      "source": [
        "forest = RandomForestClassifier()\n",
        "forest.fit(X, y)\n",
        "\n",
        "importances = forest.feature_importances_\n",
        "\n",
        "# Print the feature ranking\n",
        "print(\"Feature importance ranking by Random Forest Model:\")\n",
        "for k,v in sorted(zip(map(lambda x: round(x, 4), importances), dataset.columns), reverse=True):\n",
        "    print (v + \": \" + str(k))"
      ],
      "execution_count": 48,
      "outputs": [
        {
          "output_type": "stream",
          "text": [
            "Feature importance ranking by Random Forest Model:\n",
            "purchases_partners: 0.1541\n",
            "age: 0.1286\n",
            "reward_rate: 0.1281\n",
            "cc_recommended: 0.1253\n",
            "cc_application_begin: 0.0661\n",
            "deposits: 0.0248\n",
            "purchases: 0.0242\n",
            "android_user: 0.0218\n",
            "registered_phones: 0.0198\n",
            "payment_type_Bi-Weekly: 0.0186\n",
            "housing_R: 0.018\n",
            "left_for_two_month_plus: 0.0169\n",
            "is_referred: 0.0169\n",
            "payment_type_Weekly: 0.0125\n",
            "zodiac_sign_Gemini: 0.0121\n",
            "zodiac_sign_Cancer: 0.0121\n",
            "zodiac_sign_Leo: 0.012\n",
            "withdrawal: 0.012\n",
            "zodiac_sign_Virgo: 0.0118\n",
            "zodiac_sign_Pisces: 0.0118\n",
            "zodiac_sign_Taurus: 0.0116\n",
            "zodiac_sign_Scorpio: 0.011\n",
            "payment_type_Semi-Monthly: 0.011\n",
            "zodiac_sign_Sagittarius: 0.0109\n",
            "zodiac_sign_Aquarius: 0.0108\n",
            "zodiac_sign_Aries: 0.0106\n",
            "zodiac_sign_Libra: 0.0101\n",
            "payment_type_Monthly: 0.01\n",
            "app_web_user: 0.01\n",
            "web_user: 0.0096\n",
            "housing_O: 0.0088\n",
            "cc_taken: 0.0075\n",
            "zodiac_sign_Capricorn: 0.0061\n",
            "received_loan: 0.0055\n",
            "cancelled_loan: 0.0044\n",
            "left_for_one_month: 0.0038\n",
            "cc_disliked: 0.0036\n",
            "app_downloaded: 0.0025\n",
            "rejected_loan: 0.0023\n",
            "cc_liked: 0.0019\n",
            "waiting_4_loan: 0.0005\n"
          ],
          "name": "stdout"
        }
      ]
    },
    {
      "cell_type": "code",
      "metadata": {
        "id": "2Q04Qu34RJHM",
        "colab_type": "code",
        "colab": {}
      },
      "source": [
        "## Feature Selection\n",
        "# Recursive Feature Elimination\n",
        "from sklearn.feature_selection import RFE\n",
        "from sklearn.linear_model import LogisticRegression"
      ],
      "execution_count": 0,
      "outputs": []
    },
    {
      "cell_type": "code",
      "metadata": {
        "id": "FZxO9985RJHN",
        "colab_type": "code",
        "colab": {
          "base_uri": "https://localhost:8080/",
          "height": 168
        },
        "outputId": "b93d0d03-2976-4911-e956-794945906e3d"
      },
      "source": [
        "# Model to Test\n",
        "classifier = LogisticRegression()\n",
        "# Select Best X Features\n",
        "rfe = RFE(classifier, 20)\n",
        "rfe = rfe.fit(X_train, y_train)\n",
        "# summarize the selection of the attributes\n",
        "print(rfe.support_)\n",
        "print(rfe.ranking_)\n",
        "X.columns[rfe.support_]"
      ],
      "execution_count": 50,
      "outputs": [
        {
          "output_type": "stream",
          "text": [
            "[ True  True  True  True  True  True False False False False  True  True\n",
            "  True  True  True  True  True  True  True  True  True  True False False\n",
            "  True False False False  True False False False False False False False\n",
            " False False False False False]\n",
            "[ 1  1  1  1  1  1  5 17 15 11  1  1  1  1  1  1  1  1  1  1  1  1  6  2\n",
            "  1  4 13 12  1 14  9  8  7 20 19 16  3 21 22 18 10]\n"
          ],
          "name": "stdout"
        },
        {
          "output_type": "execute_result",
          "data": {
            "text/plain": [
              "Int64Index([0, 1, 2, 3, 4, 5, 10, 11, 12, 13, 14, 15, 16, 17, 18, 19, 20, 21,\n",
              "            24, 28],\n",
              "           dtype='int64')"
            ]
          },
          "metadata": {
            "tags": []
          },
          "execution_count": 50
        }
      ]
    }
  ]
}